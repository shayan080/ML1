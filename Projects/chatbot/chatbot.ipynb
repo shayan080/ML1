{
 "cells": [
  {
   "cell_type": "code",
   "execution_count": 2,
   "id": "0920b1f8",
   "metadata": {},
   "outputs": [
    {
     "name": "stdout",
     "output_type": "stream",
     "text": [
      "Requirement already satisfied: langchain in c:\\users\\shayan\\.conda\\envs\\traning_env\\lib\\site-packages (0.2.14)\n",
      "Requirement already satisfied: langchain-ollama in c:\\users\\shayan\\.conda\\envs\\traning_env\\lib\\site-packages (0.1.1)\n",
      "Requirement already satisfied: ollama in c:\\users\\shayan\\.conda\\envs\\traning_env\\lib\\site-packages (0.3.1)\n",
      "Requirement already satisfied: PyYAML>=5.3 in c:\\users\\shayan\\.conda\\envs\\traning_env\\lib\\site-packages (from langchain) (6.0.1)\n",
      "Requirement already satisfied: SQLAlchemy<3,>=1.4 in c:\\users\\shayan\\.conda\\envs\\traning_env\\lib\\site-packages (from langchain) (2.0.32)\n",
      "Requirement already satisfied: aiohttp<4.0.0,>=3.8.3 in c:\\users\\shayan\\.conda\\envs\\traning_env\\lib\\site-packages (from langchain) (3.10.3)\n",
      "Requirement already satisfied: async-timeout<5.0.0,>=4.0.0 in c:\\users\\shayan\\.conda\\envs\\traning_env\\lib\\site-packages (from langchain) (4.0.3)\n",
      "Requirement already satisfied: langchain-core<0.3.0,>=0.2.32 in c:\\users\\shayan\\.conda\\envs\\traning_env\\lib\\site-packages (from langchain) (0.2.32)\n",
      "Requirement already satisfied: langchain-text-splitters<0.3.0,>=0.2.0 in c:\\users\\shayan\\.conda\\envs\\traning_env\\lib\\site-packages (from langchain) (0.2.2)\n",
      "Requirement already satisfied: langsmith<0.2.0,>=0.1.17 in c:\\users\\shayan\\.conda\\envs\\traning_env\\lib\\site-packages (from langchain) (0.1.99)\n",
      "Requirement already satisfied: numpy<2,>=1 in c:\\users\\shayan\\.conda\\envs\\traning_env\\lib\\site-packages (from langchain) (1.26.4)\n",
      "Requirement already satisfied: pydantic<3,>=1 in c:\\users\\shayan\\.conda\\envs\\traning_env\\lib\\site-packages (from langchain) (2.8.2)\n",
      "Requirement already satisfied: requests<3,>=2 in c:\\users\\shayan\\.conda\\envs\\traning_env\\lib\\site-packages (from langchain) (2.32.3)\n",
      "Requirement already satisfied: tenacity!=8.4.0,<9.0.0,>=8.1.0 in c:\\users\\shayan\\.conda\\envs\\traning_env\\lib\\site-packages (from langchain) (8.5.0)\n",
      "Requirement already satisfied: httpx<0.28.0,>=0.27.0 in c:\\users\\shayan\\.conda\\envs\\traning_env\\lib\\site-packages (from ollama) (0.27.0)\n",
      "Requirement already satisfied: aiohappyeyeballs>=2.3.0 in c:\\users\\shayan\\.conda\\envs\\traning_env\\lib\\site-packages (from aiohttp<4.0.0,>=3.8.3->langchain) (2.3.5)\n",
      "Requirement already satisfied: aiosignal>=1.1.2 in c:\\users\\shayan\\.conda\\envs\\traning_env\\lib\\site-packages (from aiohttp<4.0.0,>=3.8.3->langchain) (1.3.1)\n",
      "Requirement already satisfied: attrs>=17.3.0 in c:\\users\\shayan\\.conda\\envs\\traning_env\\lib\\site-packages (from aiohttp<4.0.0,>=3.8.3->langchain) (24.2.0)\n",
      "Requirement already satisfied: frozenlist>=1.1.1 in c:\\users\\shayan\\.conda\\envs\\traning_env\\lib\\site-packages (from aiohttp<4.0.0,>=3.8.3->langchain) (1.4.1)\n",
      "Requirement already satisfied: multidict<7.0,>=4.5 in c:\\users\\shayan\\.conda\\envs\\traning_env\\lib\\site-packages (from aiohttp<4.0.0,>=3.8.3->langchain) (6.0.5)\n",
      "Requirement already satisfied: yarl<2.0,>=1.0 in c:\\users\\shayan\\.conda\\envs\\traning_env\\lib\\site-packages (from aiohttp<4.0.0,>=3.8.3->langchain) (1.9.4)\n",
      "Requirement already satisfied: anyio in c:\\users\\shayan\\.conda\\envs\\traning_env\\lib\\site-packages (from httpx<0.28.0,>=0.27.0->ollama) (4.4.0)\n",
      "Requirement already satisfied: certifi in c:\\users\\shayan\\.conda\\envs\\traning_env\\lib\\site-packages (from httpx<0.28.0,>=0.27.0->ollama) (2024.6.2)\n",
      "Requirement already satisfied: httpcore==1.* in c:\\users\\shayan\\.conda\\envs\\traning_env\\lib\\site-packages (from httpx<0.28.0,>=0.27.0->ollama) (1.0.5)\n",
      "Requirement already satisfied: idna in c:\\users\\shayan\\.conda\\envs\\traning_env\\lib\\site-packages (from httpx<0.28.0,>=0.27.0->ollama) (3.7)\n",
      "Requirement already satisfied: sniffio in c:\\users\\shayan\\.conda\\envs\\traning_env\\lib\\site-packages (from httpx<0.28.0,>=0.27.0->ollama) (1.3.1)\n",
      "Requirement already satisfied: h11<0.15,>=0.13 in c:\\users\\shayan\\.conda\\envs\\traning_env\\lib\\site-packages (from httpcore==1.*->httpx<0.28.0,>=0.27.0->ollama) (0.14.0)\n",
      "Requirement already satisfied: jsonpatch<2.0,>=1.33 in c:\\users\\shayan\\.conda\\envs\\traning_env\\lib\\site-packages (from langchain-core<0.3.0,>=0.2.32->langchain) (1.33)\n",
      "Requirement already satisfied: packaging<25,>=23.2 in c:\\users\\shayan\\appdata\\roaming\\python\\python39\\site-packages (from langchain-core<0.3.0,>=0.2.32->langchain) (23.2)\n",
      "Requirement already satisfied: typing-extensions>=4.7 in c:\\users\\shayan\\appdata\\roaming\\python\\python39\\site-packages (from langchain-core<0.3.0,>=0.2.32->langchain) (4.9.0)\n",
      "Requirement already satisfied: orjson<4.0.0,>=3.9.14 in c:\\users\\shayan\\.conda\\envs\\traning_env\\lib\\site-packages (from langsmith<0.2.0,>=0.1.17->langchain) (3.10.7)\n",
      "Requirement already satisfied: annotated-types>=0.4.0 in c:\\users\\shayan\\.conda\\envs\\traning_env\\lib\\site-packages (from pydantic<3,>=1->langchain) (0.7.0)\n",
      "Requirement already satisfied: pydantic-core==2.20.1 in c:\\users\\shayan\\.conda\\envs\\traning_env\\lib\\site-packages (from pydantic<3,>=1->langchain) (2.20.1)\n",
      "Requirement already satisfied: charset-normalizer<4,>=2 in c:\\users\\shayan\\.conda\\envs\\traning_env\\lib\\site-packages (from requests<3,>=2->langchain) (3.3.2)\n",
      "Requirement already satisfied: urllib3<3,>=1.21.1 in c:\\users\\shayan\\.conda\\envs\\traning_env\\lib\\site-packages (from requests<3,>=2->langchain) (2.2.2)\n",
      "Requirement already satisfied: greenlet!=0.4.17 in c:\\users\\shayan\\.conda\\envs\\traning_env\\lib\\site-packages (from SQLAlchemy<3,>=1.4->langchain) (3.0.3)\n",
      "Requirement already satisfied: jsonpointer>=1.9 in c:\\users\\shayan\\.conda\\envs\\traning_env\\lib\\site-packages (from jsonpatch<2.0,>=1.33->langchain-core<0.3.0,>=0.2.32->langchain) (3.0.0)\n",
      "Requirement already satisfied: exceptiongroup>=1.0.2 in c:\\users\\shayan\\appdata\\roaming\\python\\python39\\site-packages (from anyio->httpx<0.28.0,>=0.27.0->ollama) (1.2.0)\n",
      "Note: you may need to restart the kernel to use updated packages.\n"
     ]
    }
   ],
   "source": [
    "pip install langchain langchain-ollama ollama"
   ]
  },
  {
   "cell_type": "code",
   "execution_count": 7,
   "id": "716673a0",
   "metadata": {},
   "outputs": [],
   "source": [
    "from langchain_ollama import OllamaLLM\n",
    "from langchain_core.prompts import ChatPromptTemplate"
   ]
  },
  {
   "cell_type": "code",
   "execution_count": 9,
   "id": "9acc47ae",
   "metadata": {},
   "outputs": [],
   "source": [
    "template = \"\"\"\n",
    "Answer the question below.\n",
    "\n",
    "Here is the conversation history: {context}\n",
    "\n",
    "Question: {question}\n",
    "\n",
    "Answer: \n",
    "\n",
    "\"\"\""
   ]
  },
  {
   "cell_type": "code",
   "execution_count": 10,
   "id": "644c002f",
   "metadata": {},
   "outputs": [],
   "source": [
    "model = OllamaLLM(model=\"llama3\")\n",
    "prompt = ChatPromptTemplate.from_template(template)\n",
    "chain = prompt | model"
   ]
  },
  {
   "cell_type": "code",
   "execution_count": 14,
   "id": "2526a582",
   "metadata": {},
   "outputs": [
    {
     "name": "stdout",
     "output_type": "stream",
     "text": [
      "Welcome to the AI Chatbot! Type 'exit' to quit. \n",
      "You: hey how are you doing?\n",
      "Bot:  I'm doing well, thanks for asking! A little busy but overall good. How about you?\n",
      "You: what is your name?\n",
      "Bot:  I apologize, but since I'm an AI, I don't have a personal name.\n",
      "You: From now on your name is Chatbot\n",
      "Bot:  Nice to meet you! As Chatbot, I'm doing well, thanks for asking! A little busy but overall good. How about you?\n",
      "You: what is your name?\n",
      "Bot:  As Chatbot, my name is Chatbot!\n",
      "You: exit\n"
     ]
    }
   ],
   "source": [
    "def handle_conversation():\n",
    "    context = \"\"\n",
    "    print(\"Welcome to the AI Chatbot! Type 'exit' to quit. \")\n",
    "    while True:\n",
    "        user_input = input(\"You: \")\n",
    "        if user_input.lower() == \"exit\":\n",
    "            break\n",
    "        result = chain.invoke({\"context\": context,\"question\": user_input})\n",
    "        print(\"Bot: \", result)\n",
    "        context += f\"\\nUser: {user_input}\\nAI: {result}\"\n",
    "        \n",
    "if __name__ == \"__main__\":\n",
    "    handle_conversation()"
   ]
  },
  {
   "cell_type": "code",
   "execution_count": 1,
   "id": "aee7bd86",
   "metadata": {},
   "outputs": [
    {
     "name": "stdout",
     "output_type": "stream",
     "text": [
      "Note: you may need to restart the kernel to use updated packages.\n"
     ]
    }
   ],
   "source": [
    "pip freeze > requirements.txt\n"
   ]
  },
  {
   "cell_type": "code",
   "execution_count": null,
   "id": "9d12cc0a",
   "metadata": {},
   "outputs": [],
   "source": []
  }
 ],
 "metadata": {
  "kernelspec": {
   "display_name": "traning_env",
   "language": "python",
   "name": "traning_env"
  },
  "language_info": {
   "codemirror_mode": {
    "name": "ipython",
    "version": 3
   },
   "file_extension": ".py",
   "mimetype": "text/x-python",
   "name": "python",
   "nbconvert_exporter": "python",
   "pygments_lexer": "ipython3",
   "version": "3.9.19"
  }
 },
 "nbformat": 4,
 "nbformat_minor": 5
}
