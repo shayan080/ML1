{
  "cells": [
    {
      "cell_type": "markdown",
      "id": "6293cc50",
      "metadata": {
        "id": "6293cc50"
      },
      "source": [
        "# 100 numpy exercises\n",
        "\n",
        "This is a collection of exercises that have been collected in the numpy mailing list, on stack overflow\n",
        "and in the numpy documentation. The goal of this collection is to offer a quick reference for both old\n",
        "and new users but also to provide a set of exercises for those who teach."
      ]
    },
    {
      "cell_type": "markdown",
      "id": "a167c052",
      "metadata": {
        "id": "a167c052"
      },
      "source": [
        "File automatically generated. See the documentation to update questions/answers/hints programmatically."
      ]
    },
    {
      "cell_type": "markdown",
      "id": "3c1222ff",
      "metadata": {
        "id": "3c1222ff"
      },
      "source": [
        "#### 1. Import the numpy package under the name `np`"
      ]
    },
    {
      "cell_type": "code",
      "execution_count": null,
      "id": "f52e6a0b",
      "metadata": {
        "id": "f52e6a0b"
      },
      "outputs": [],
      "source": [
        "# prompt:  Import the numpy package under the name\n",
        "\n",
        "import numpy as np\n"
      ]
    },
    {
      "cell_type": "markdown",
      "id": "9d9f4753",
      "metadata": {
        "id": "9d9f4753"
      },
      "source": [
        "#### 2. Print the numpy version and the configuration"
      ]
    },
    {
      "cell_type": "code",
      "execution_count": null,
      "id": "b7fa5fa1",
      "metadata": {
        "colab": {
          "base_uri": "https://localhost:8080/"
        },
        "id": "b7fa5fa1",
        "outputId": "8809423f-4502-4a83-835d-222093b1195c"
      },
      "outputs": [
        {
          "output_type": "stream",
          "name": "stdout",
          "text": [
            "1.25.2\n",
            "openblas64__info:\n",
            "    libraries = ['openblas64_', 'openblas64_']\n",
            "    library_dirs = ['/usr/local/lib']\n",
            "    language = c\n",
            "    define_macros = [('HAVE_CBLAS', None), ('BLAS_SYMBOL_SUFFIX', '64_'), ('HAVE_BLAS_ILP64', None)]\n",
            "    runtime_library_dirs = ['/usr/local/lib']\n",
            "blas_ilp64_opt_info:\n",
            "    libraries = ['openblas64_', 'openblas64_']\n",
            "    library_dirs = ['/usr/local/lib']\n",
            "    language = c\n",
            "    define_macros = [('HAVE_CBLAS', None), ('BLAS_SYMBOL_SUFFIX', '64_'), ('HAVE_BLAS_ILP64', None)]\n",
            "    runtime_library_dirs = ['/usr/local/lib']\n",
            "openblas64__lapack_info:\n",
            "    libraries = ['openblas64_', 'openblas64_']\n",
            "    library_dirs = ['/usr/local/lib']\n",
            "    language = c\n",
            "    define_macros = [('HAVE_CBLAS', None), ('BLAS_SYMBOL_SUFFIX', '64_'), ('HAVE_BLAS_ILP64', None), ('HAVE_LAPACKE', None)]\n",
            "    runtime_library_dirs = ['/usr/local/lib']\n",
            "lapack_ilp64_opt_info:\n",
            "    libraries = ['openblas64_', 'openblas64_']\n",
            "    library_dirs = ['/usr/local/lib']\n",
            "    language = c\n",
            "    define_macros = [('HAVE_CBLAS', None), ('BLAS_SYMBOL_SUFFIX', '64_'), ('HAVE_BLAS_ILP64', None), ('HAVE_LAPACKE', None)]\n",
            "    runtime_library_dirs = ['/usr/local/lib']\n",
            "Supported SIMD extensions in this NumPy install:\n",
            "    baseline = SSE,SSE2,SSE3\n",
            "    found = SSSE3,SSE41,POPCNT,SSE42,AVX,F16C,FMA3,AVX2\n",
            "    not found = AVX512F,AVX512CD,AVX512_KNL,AVX512_KNM,AVX512_SKX,AVX512_CLX,AVX512_CNL,AVX512_ICL\n",
            "None\n"
          ]
        }
      ],
      "source": [
        "# prompt: Print the numpy version and the configuration\n",
        "\n",
        "import numpy as np\n",
        "\n",
        "print(np.__version__)\n",
        "print(np.show_config())\n"
      ]
    },
    {
      "cell_type": "markdown",
      "id": "3e4c23c6",
      "metadata": {
        "id": "3e4c23c6"
      },
      "source": [
        "#### 3. Create a null vector of size 10"
      ]
    },
    {
      "cell_type": "code",
      "execution_count": null,
      "id": "083c5c46",
      "metadata": {
        "colab": {
          "base_uri": "https://localhost:8080/"
        },
        "id": "083c5c46",
        "outputId": "c6628fcc-22b6-4fc3-8ab4-b5477a4ac20e"
      },
      "outputs": [
        {
          "output_type": "stream",
          "name": "stdout",
          "text": [
            "[0. 0. 0. 0. 0. 0. 0. 0. 0. 0.]\n"
          ]
        }
      ],
      "source": [
        "# prompt: Create a null vector of size 10\n",
        "\n",
        "import numpy as np\n",
        "\n",
        "# Create a null vector of size 10\n",
        "null_vector = np.zeros(10)\n",
        "\n",
        "print(null_vector)\n",
        "\n"
      ]
    },
    {
      "cell_type": "markdown",
      "id": "c38bbe82",
      "metadata": {
        "id": "c38bbe82"
      },
      "source": [
        "#### 4. How to find the memory size of any array"
      ]
    },
    {
      "cell_type": "code",
      "execution_count": null,
      "id": "02b04021",
      "metadata": {
        "colab": {
          "base_uri": "https://localhost:8080/"
        },
        "id": "02b04021",
        "outputId": "c77fdef9-3372-4b4f-a86d-2bc68297e83d"
      },
      "outputs": [
        {
          "output_type": "stream",
          "name": "stdout",
          "text": [
            "Memory size of the array: 40 bytes\n"
          ]
        }
      ],
      "source": [
        "# prompt: How to find the memory size of any array\n",
        "\n",
        "# How to find the memory size of any array\n",
        "\n",
        "# Create an array\n",
        "array = np.array([1, 2, 3, 4, 5])\n",
        "\n",
        "# Find the memory size of the array\n",
        "memory_size = array.nbytes\n",
        "\n",
        "# Print the memory size\n",
        "print(f\"Memory size of the array: {memory_size} bytes\")\n"
      ]
    },
    {
      "cell_type": "markdown",
      "id": "67f893d4",
      "metadata": {
        "id": "67f893d4"
      },
      "source": [
        "#### 5. How to get the documentation of the numpy add function from the command line?"
      ]
    },
    {
      "cell_type": "code",
      "execution_count": null,
      "id": "40e6b70d",
      "metadata": {
        "colab": {
          "base_uri": "https://localhost:8080/"
        },
        "id": "40e6b70d",
        "outputId": "8647bf36-c11b-4420-b5d9-dab4794ea87a"
      },
      "outputs": [
        {
          "output_type": "stream",
          "name": "stdout",
          "text": [
            "add(x1, x2, /, out=None, *, where=True, casting='same_kind', order='K', dtype=None, subok=True[, signature, extobj])\n",
            "\n",
            "Add arguments element-wise.\n",
            "\n",
            "Parameters\n",
            "----------\n",
            "x1, x2 : array_like\n",
            "    The arrays to be added.\n",
            "    If ``x1.shape != x2.shape``, they must be broadcastable to a common\n",
            "    shape (which becomes the shape of the output).\n",
            "out : ndarray, None, or tuple of ndarray and None, optional\n",
            "    A location into which the result is stored. If provided, it must have\n",
            "    a shape that the inputs broadcast to. If not provided or None,\n",
            "    a freshly-allocated array is returned. A tuple (possible only as a\n",
            "    keyword argument) must have length equal to the number of outputs.\n",
            "where : array_like, optional\n",
            "    This condition is broadcast over the input. At locations where the\n",
            "    condition is True, the `out` array will be set to the ufunc result.\n",
            "    Elsewhere, the `out` array will retain its original value.\n",
            "    Note that if an uninitialized `out` array is created via the default\n",
            "    ``out=None``, locations within it where the condition is False will\n",
            "    remain uninitialized.\n",
            "**kwargs\n",
            "    For other keyword-only arguments, see the\n",
            "    :ref:`ufunc docs <ufuncs.kwargs>`.\n",
            "\n",
            "Returns\n",
            "-------\n",
            "add : ndarray or scalar\n",
            "    The sum of `x1` and `x2`, element-wise.\n",
            "    This is a scalar if both `x1` and `x2` are scalars.\n",
            "\n",
            "Notes\n",
            "-----\n",
            "Equivalent to `x1` + `x2` in terms of array broadcasting.\n",
            "\n",
            "Examples\n",
            "--------\n",
            ">>> np.add(1.0, 4.0)\n",
            "5.0\n",
            ">>> x1 = np.arange(9.0).reshape((3, 3))\n",
            ">>> x2 = np.arange(3.0)\n",
            ">>> np.add(x1, x2)\n",
            "array([[  0.,   2.,   4.],\n",
            "       [  3.,   5.,   7.],\n",
            "       [  6.,   8.,  10.]])\n",
            "\n",
            "The ``+`` operator can be used as a shorthand for ``np.add`` on ndarrays.\n",
            "\n",
            ">>> x1 = np.arange(9.0).reshape((3, 3))\n",
            ">>> x2 = np.arange(3.0)\n",
            ">>> x1 + x2\n",
            "array([[ 0.,  2.,  4.],\n",
            "       [ 3.,  5.,  7.],\n",
            "       [ 6.,  8., 10.]])\n"
          ]
        }
      ],
      "source": [
        "# prompt: How to get the documentation of the numpy add function from the command line?\n",
        "\n",
        "!python -c \"import numpy; print(numpy.add.__doc__)\"\n"
      ]
    },
    {
      "cell_type": "markdown",
      "metadata": {
        "id": "5K90tC8HPycN"
      },
      "source": [
        "#### 5. How to get the documentation of the numpy add function from the command line?"
      ],
      "id": "5K90tC8HPycN"
    },
    {
      "cell_type": "markdown",
      "id": "e0c739c6",
      "metadata": {
        "id": "e0c739c6"
      },
      "source": [
        "#### 6. Create a null vector of size 10 but the fifth value which is 1"
      ]
    },
    {
      "cell_type": "code",
      "execution_count": null,
      "id": "bcceacf7",
      "metadata": {
        "colab": {
          "base_uri": "https://localhost:8080/"
        },
        "id": "bcceacf7",
        "outputId": "4c2884e9-3210-4823-fe08-2d0d3e3de359"
      },
      "outputs": [
        {
          "output_type": "stream",
          "name": "stdout",
          "text": [
            "[0. 0. 0. 0. 1. 0. 0. 0. 0. 0.]\n"
          ]
        }
      ],
      "source": [
        "# prompt: Create a null vector of size 10 but the fifth value which is 1\n",
        "\n",
        "import numpy as np\n",
        "\n",
        "null_vector = np.zeros(10)\n",
        "null_vector[4] = 1\n",
        "\n",
        "print(null_vector)\n"
      ]
    },
    {
      "cell_type": "markdown",
      "id": "fbebedab",
      "metadata": {
        "id": "fbebedab"
      },
      "source": [
        "#### 7. Create a vector with values ranging from 10 to 49"
      ]
    },
    {
      "cell_type": "code",
      "execution_count": null,
      "id": "3d117d54",
      "metadata": {
        "colab": {
          "base_uri": "https://localhost:8080/"
        },
        "id": "3d117d54",
        "outputId": "85c96b03-9221-451f-c2a8-947b5b647e62"
      },
      "outputs": [
        {
          "output_type": "stream",
          "name": "stdout",
          "text": [
            "[10 11 12 13 14 15 16 17 18 19 20 21 22 23 24 25 26 27 28 29 30 31 32 33\n",
            " 34 35 36 37 38 39 40 41 42 43 44 45 46 47 48 49]\n"
          ]
        }
      ],
      "source": [
        "# prompt: Create a vector with values ranging from 10 to 49\n",
        "\n",
        "vector = np.arange(10, 50)\n",
        "print(vector)\n"
      ]
    },
    {
      "cell_type": "markdown",
      "id": "ad0bff02",
      "metadata": {
        "id": "ad0bff02"
      },
      "source": [
        "#### 8. Reverse a vector (first element becomes last)"
      ]
    },
    {
      "cell_type": "code",
      "execution_count": null,
      "id": "22d23470",
      "metadata": {
        "colab": {
          "base_uri": "https://localhost:8080/"
        },
        "id": "22d23470",
        "outputId": "c2758335-3e32-489a-95f7-83d429caf3a5"
      },
      "outputs": [
        {
          "output_type": "stream",
          "name": "stdout",
          "text": [
            "[49 48 47 46 45 44 43 42 41 40 39 38 37 36 35 34 33 32 31 30 29 28 27 26\n",
            " 25 24 23 22 21 20 19 18 17 16 15 14 13 12 11 10]\n"
          ]
        }
      ],
      "source": [
        "# prompt: Reverse a vector (first element becomes last)\n",
        "\n",
        "vector = np.arange(10, 50)\n",
        "\n",
        "reversed_vector = vector[::-1]\n",
        "\n",
        "print(reversed_vector)\n"
      ]
    },
    {
      "cell_type": "markdown",
      "id": "9f59d7e1",
      "metadata": {
        "id": "9f59d7e1"
      },
      "source": [
        "#### 9. Create a 3x3 matrix with values ranging from 0 to 8"
      ]
    },
    {
      "cell_type": "code",
      "execution_count": null,
      "id": "7449e82d",
      "metadata": {
        "colab": {
          "base_uri": "https://localhost:8080/"
        },
        "id": "7449e82d",
        "outputId": "bb8c7d6e-51b6-4344-b40d-500c719409d0"
      },
      "outputs": [
        {
          "output_type": "stream",
          "name": "stdout",
          "text": [
            "[[0 1 2]\n",
            " [3 4 5]\n",
            " [6 7 8]]\n"
          ]
        }
      ],
      "source": [
        "# prompt: Create a 3x3 matrix with values ranging from 0 to 8\n",
        "\n",
        "matrix = np.arange(0, 9).reshape(3, 3)\n",
        "print(matrix)\n"
      ]
    },
    {
      "cell_type": "markdown",
      "id": "f374c4cf",
      "metadata": {
        "id": "f374c4cf"
      },
      "source": [
        "#### 10. Find indices of non-zero elements from [1,2,0,0,4,0]"
      ]
    },
    {
      "cell_type": "code",
      "execution_count": null,
      "id": "1a84bed8",
      "metadata": {
        "colab": {
          "base_uri": "https://localhost:8080/"
        },
        "id": "1a84bed8",
        "outputId": "252836a5-c533-4781-e1f1-c7c4c15a751a"
      },
      "outputs": [
        {
          "output_type": "stream",
          "name": "stdout",
          "text": [
            "(array([0, 1, 4]),)\n"
          ]
        }
      ],
      "source": [
        "# prompt: Find indices of non-zero elements from [1,2,0,0,4,0]\n",
        "\n",
        "import numpy as np\n",
        "\n",
        "array = np.array([1, 2, 0, 0, 4, 0])\n",
        "\n",
        "non_zero_indices = np.nonzero(array)\n",
        "\n",
        "print(non_zero_indices)\n"
      ]
    },
    {
      "cell_type": "markdown",
      "id": "9c4707f5",
      "metadata": {
        "id": "9c4707f5"
      },
      "source": [
        "#### 11. Create a 3x3 identity matrix"
      ]
    },
    {
      "cell_type": "code",
      "execution_count": null,
      "id": "29dc1fd3",
      "metadata": {
        "colab": {
          "base_uri": "https://localhost:8080/"
        },
        "id": "29dc1fd3",
        "outputId": "fabc7162-9b99-4162-e1bf-9711c14fdd7b"
      },
      "outputs": [
        {
          "output_type": "stream",
          "name": "stdout",
          "text": [
            "[[1. 0. 0.]\n",
            " [0. 1. 0.]\n",
            " [0. 0. 1.]]\n"
          ]
        }
      ],
      "source": [
        "# prompt: Create a 3x3 identity matrix\n",
        "\n",
        "identity_matrix = np.eye(3)\n",
        "print(identity_matrix)\n"
      ]
    },
    {
      "cell_type": "markdown",
      "id": "3bac294a",
      "metadata": {
        "id": "3bac294a"
      },
      "source": [
        "#### 12. Create a 3x3x3 array with random values"
      ]
    },
    {
      "cell_type": "code",
      "execution_count": null,
      "id": "eadfae67",
      "metadata": {
        "colab": {
          "base_uri": "https://localhost:8080/"
        },
        "id": "eadfae67",
        "outputId": "fc8114ce-5747-441e-acf2-04a8df0d87de"
      },
      "outputs": [
        {
          "output_type": "stream",
          "name": "stdout",
          "text": [
            "[[[0.28179226 0.42775681 0.95100107]\n",
            "  [0.81224391 0.92959415 0.79682493]\n",
            "  [0.25522838 0.15337202 0.35443465]]\n",
            "\n",
            " [[0.11613318 0.68797487 0.76301457]\n",
            "  [0.0469616  0.66050313 0.57770526]\n",
            "  [0.0100368  0.00545412 0.21700354]]\n",
            "\n",
            " [[0.67081377 0.66025188 0.10245957]\n",
            "  [0.25563968 0.7792935  0.2868969 ]\n",
            "  [0.46262109 0.20443239 0.06916236]]]\n"
          ]
        }
      ],
      "source": [
        "# prompt: Create a 3x3x3 array with random values\n",
        "\n",
        "import numpy as np\n",
        "\n",
        "# Create a 3x3x3 array with random values\n",
        "random_array = np.random.rand(3, 3, 3)\n",
        "\n",
        "print(random_array)\n"
      ]
    },
    {
      "cell_type": "markdown",
      "id": "466c2989",
      "metadata": {
        "id": "466c2989"
      },
      "source": [
        "#### 13. Create a 10x10 array with random values and find the minimum and maximum values"
      ]
    },
    {
      "cell_type": "code",
      "execution_count": null,
      "id": "9a74dbfc",
      "metadata": {
        "colab": {
          "base_uri": "https://localhost:8080/"
        },
        "id": "9a74dbfc",
        "outputId": "87912889-e27e-4fed-fca4-21d61eaa7d37"
      },
      "outputs": [
        {
          "output_type": "stream",
          "name": "stdout",
          "text": [
            "Minimum value: 0.0004754684167888046\n",
            "Maximum value: 0.993810881602491\n"
          ]
        }
      ],
      "source": [
        "# prompt: Create a 10x10 array with random values and find the minimum and maximum values\n",
        "\n",
        "# Create a 10x10 array with random values\n",
        "array = np.random.rand(10, 10)\n",
        "\n",
        "# Find the minimum and maximum values\n",
        "min_value = np.min(array)\n",
        "max_value = np.max(array)\n",
        "\n",
        "# Print the minimum and maximum values\n",
        "print(f\"Minimum value: {min_value}\")\n",
        "print(f\"Maximum value: {max_value}\")\n"
      ]
    },
    {
      "cell_type": "markdown",
      "id": "53a8edb2",
      "metadata": {
        "id": "53a8edb2"
      },
      "source": [
        "#### 14. Create a random vector of size 30 and find the mean value"
      ]
    },
    {
      "cell_type": "code",
      "execution_count": null,
      "id": "6691530b",
      "metadata": {
        "colab": {
          "base_uri": "https://localhost:8080/"
        },
        "id": "6691530b",
        "outputId": "2bfcb48d-c300-463e-b9e7-dc7b5a936668"
      },
      "outputs": [
        {
          "output_type": "stream",
          "name": "stdout",
          "text": [
            "Mean value: 0.5143652367320954\n"
          ]
        }
      ],
      "source": [
        "# prompt: Create a random vector of size 30 and find the mean value\n",
        "\n",
        "# Create a random vector of size 30\n",
        "vector = np.random.rand(30)\n",
        "\n",
        "# Find the mean value\n",
        "mean_value = np.mean(vector)\n",
        "\n",
        "# Print the mean value\n",
        "print(f\"Mean value: {mean_value}\")\n"
      ]
    },
    {
      "cell_type": "markdown",
      "id": "cbaad31c",
      "metadata": {
        "id": "cbaad31c"
      },
      "source": [
        "#### 15. Create a 2d array with 1 on the border and 0 inside"
      ]
    },
    {
      "cell_type": "code",
      "execution_count": null,
      "id": "ad8308e3",
      "metadata": {
        "colab": {
          "base_uri": "https://localhost:8080/"
        },
        "id": "ad8308e3",
        "outputId": "ac5b1815-f3e2-464c-beff-eab995dc87d9"
      },
      "outputs": [
        {
          "output_type": "stream",
          "name": "stdout",
          "text": [
            "[[1. 1. 1. 1. 1.]\n",
            " [1. 0. 0. 0. 1.]\n",
            " [1. 0. 0. 0. 1.]\n",
            " [1. 0. 0. 0. 1.]\n",
            " [1. 1. 1. 1. 1.]]\n"
          ]
        }
      ],
      "source": [
        "# prompt: Create a 2d array with 1 on the border and 0 inside\n",
        "\n",
        "import numpy as np\n",
        "\n",
        "# Create a 5x5 array with zeros\n",
        "array = np.zeros((5, 5))\n",
        "\n",
        "# Set the border elements to 1\n",
        "array[0, :] = 1\n",
        "array[-1, :] = 1\n",
        "array[:, 0] = 1\n",
        "array[:, -1] = 1\n",
        "\n",
        "# Print the array\n",
        "print(array)\n"
      ]
    },
    {
      "cell_type": "markdown",
      "id": "4d746367",
      "metadata": {
        "id": "4d746367"
      },
      "source": [
        "```\n",
        "[[1. 1. 1. 1. 1. 1. 1. 1. 1. 1.]\n",
        " [1. 0. 0. 0. 0. 0. 0. 0. 0. 1.]\n",
        " [1. 0. 0. 0. 0. 0. 0. 0. 0. 1.]\n",
        " [1. 0. 0. 0. 0. 0. 0. 0. 0. 1.]\n",
        " [1. 0. 0. 0. 0. 0. 0. 0. 0. 1.]\n",
        " [1. 0. 0. 0. 0. 0. 0. 0. 0. 1.]\n",
        " [1. 0. 0. 0. 0. 0. 0. 0. 0. 1.]\n",
        " [1. 0. 0. 0. 0. 0. 0. 0. 0. 1.]\n",
        " [1. 0. 0. 0. 0. 0. 0. 0. 0. 1.]\n",
        " [1. 1. 1. 1. 1. 1. 1. 1. 1. 1.]]\n",
        "```"
      ]
    },
    {
      "cell_type": "markdown",
      "id": "c5ecc267",
      "metadata": {
        "id": "c5ecc267"
      },
      "source": [
        "#### 16. How to add a border (filled with 0's) around an existing array?"
      ]
    },
    {
      "cell_type": "code",
      "execution_count": null,
      "id": "9d5c78c4",
      "metadata": {
        "colab": {
          "base_uri": "https://localhost:8080/"
        },
        "id": "9d5c78c4",
        "outputId": "600c2759-2028-492b-dc8a-37508ff396d1"
      },
      "outputs": [
        {
          "output_type": "stream",
          "name": "stdout",
          "text": [
            "[[0. 0. 0. 0. 0.]\n",
            " [0. 1. 2. 3. 0.]\n",
            " [0. 4. 5. 6. 0.]\n",
            " [0. 7. 8. 9. 0.]\n",
            " [0. 0. 0. 0. 0.]]\n"
          ]
        }
      ],
      "source": [
        "# prompt: How to add a border (filled with 0's) around an existing array?\n",
        "\n",
        "import numpy as np\n",
        "\n",
        "# Create the original array\n",
        "original_array = np.array([[1, 2, 3],\n",
        "                          [4, 5, 6],\n",
        "                          [7, 8, 9]])\n",
        "\n",
        "# Define the border size\n",
        "border_size = 1\n",
        "\n",
        "# Create a new array with the desired size\n",
        "new_array = np.zeros((original_array.shape[0] + 2 * border_size,\n",
        "                     original_array.shape[1] + 2 * border_size))\n",
        "\n",
        "# Copy the original array into the new array\n",
        "new_array[border_size:-border_size, border_size:-border_size] = original_array\n",
        "\n",
        "# Print the new array\n",
        "print(new_array)\n"
      ]
    },
    {
      "cell_type": "markdown",
      "id": "ef909b72",
      "metadata": {
        "id": "ef909b72"
      },
      "source": [
        "#### 17. What is the result of the following expression?\n",
        "```python\n",
        "0 * np.nan\n",
        "np.nan == np.nan\n",
        "np.inf > np.nan\n",
        "np.nan - np.nan\n",
        "np.nan in set([np.nan])\n",
        "0.3 == 3 * 0.1\n",
        "```"
      ]
    },
    {
      "cell_type": "code",
      "execution_count": null,
      "id": "3b4985f2",
      "metadata": {
        "colab": {
          "base_uri": "https://localhost:8080/"
        },
        "id": "3b4985f2",
        "outputId": "011b6328-6006-4a82-d4fe-a22f22b5945e"
      },
      "outputs": [
        {
          "output_type": "stream",
          "name": "stdout",
          "text": [
            "nan\n",
            "False\n",
            "False\n",
            "nan\n",
            "True\n",
            "False\n"
          ]
        }
      ],
      "source": [
        "# prompt: What is the result of the following expression?\n",
        "# 0 * np.nan\n",
        "# np.nan == np.nan\n",
        "# np.inf > np.nan\n",
        "# np.nan - np.nan\n",
        "# np.nan in set([np.nan])\n",
        "# 0.3 == 3 * 0.1\n",
        "\n",
        "print(0 * np.nan)  # Output: nan\n",
        "print(np.nan == np.nan)  # Output: False\n",
        "print(np.inf > np.nan)  # Output: False\n",
        "print(np.nan - np.nan)  # Output: nan\n",
        "print(np.nan in set([np.nan]))  # Output: True\n",
        "print(0.3 == 3 * 0.1)  # Output: False\n"
      ]
    },
    {
      "cell_type": "markdown",
      "id": "502738ac",
      "metadata": {
        "id": "502738ac"
      },
      "source": [
        "#### 18. Create a 5x5 matrix with values 1,2,3,4 just below the diagonal"
      ]
    },
    {
      "cell_type": "code",
      "execution_count": null,
      "id": "faed6e2b",
      "metadata": {
        "colab": {
          "base_uri": "https://localhost:8080/"
        },
        "id": "faed6e2b",
        "outputId": "ff846681-8cd2-4e68-fe60-c27451ba98d1"
      },
      "outputs": [
        {
          "output_type": "stream",
          "name": "stdout",
          "text": [
            "[[0. 0. 0. 0. 0.]\n",
            " [1. 2. 3. 4. 0.]\n",
            " [1. 2. 3. 4. 0.]\n",
            " [1. 2. 3. 4. 0.]\n",
            " [1. 2. 3. 4. 0.]]\n"
          ]
        }
      ],
      "source": [
        "# prompt: Create a 5x5 matrix with values 1,2,3,4 just below the diagonal\n",
        "\n",
        "import numpy as np\n",
        "\n",
        "# Create a 5x5 matrix filled with zeros\n",
        "matrix = np.zeros((5, 5))\n",
        "\n",
        "# Set the values just below the diagonal\n",
        "matrix[1:, :-1] = np.arange(1, 5)\n",
        "\n",
        "# Print the matrix\n",
        "print(matrix)\n"
      ]
    },
    {
      "cell_type": "markdown",
      "id": "a65da660",
      "metadata": {
        "id": "a65da660"
      },
      "source": [
        "#### 19. Create a 8x8 matrix and fill it with a checkerboard pattern"
      ]
    },
    {
      "cell_type": "code",
      "execution_count": null,
      "id": "ed150400",
      "metadata": {
        "colab": {
          "base_uri": "https://localhost:8080/"
        },
        "id": "ed150400",
        "outputId": "5a27d7c5-31bc-4470-e41f-9b502ab87a64"
      },
      "outputs": [
        {
          "output_type": "stream",
          "name": "stdout",
          "text": [
            "[[1. 0. 1. 0. 1. 0. 1. 0.]\n",
            " [0. 1. 0. 1. 0. 1. 0. 1.]\n",
            " [1. 0. 1. 0. 1. 0. 1. 0.]\n",
            " [0. 1. 0. 1. 0. 1. 0. 1.]\n",
            " [1. 0. 1. 0. 1. 0. 1. 0.]\n",
            " [0. 1. 0. 1. 0. 1. 0. 1.]\n",
            " [1. 0. 1. 0. 1. 0. 1. 0.]\n",
            " [0. 1. 0. 1. 0. 1. 0. 1.]]\n"
          ]
        }
      ],
      "source": [
        "# prompt: Create a 8x8 matrix and fill it with a checkerboard pattern\n",
        "\n",
        "# Create an 8x8 matrix filled with zeros\n",
        "checkerboard = np.zeros((8, 8))\n",
        "\n",
        "# Fill the even rows with alternating 1s and 0s\n",
        "checkerboard[::2, ::2] = 1\n",
        "checkerboard[1::2, 1::2] = 1\n",
        "\n",
        "# Print the checkerboard\n",
        "print(checkerboard)\n"
      ]
    },
    {
      "cell_type": "markdown",
      "id": "9f7f9c49",
      "metadata": {
        "id": "9f7f9c49"
      },
      "source": [
        "#### 20. Consider a (6,7,8) shape array, what is the index (x,y,z) of the 100th element?"
      ]
    },
    {
      "cell_type": "code",
      "execution_count": null,
      "id": "3782b5a9",
      "metadata": {
        "colab": {
          "base_uri": "https://localhost:8080/"
        },
        "id": "3782b5a9",
        "outputId": "4a9e80e0-074f-42d7-c379-8d2b5bcf2c7f"
      },
      "outputs": [
        {
          "output_type": "stream",
          "name": "stdout",
          "text": [
            "(1, 5, 4)\n"
          ]
        }
      ],
      "source": [
        "# prompt: Consider a (6,7,8) shape array, what is the index (x,y,z) of the 100th element?\n",
        "\n",
        "import numpy as np\n",
        "\n",
        "# Calculate the index of the 100th element in a (6, 7, 8) shape array\n",
        "array_shape = (6, 7, 8)\n",
        "index = np.unravel_index(100, array_shape)\n",
        "\n",
        "# Print the index\n",
        "print(index)\n",
        "\n",
        "# Output: (1, 5, 4)\n"
      ]
    },
    {
      "cell_type": "markdown",
      "id": "66bfda35",
      "metadata": {
        "id": "66bfda35"
      },
      "source": [
        "#### 21. Create a checkerboard 8x8 matrix using the tile function"
      ]
    },
    {
      "cell_type": "code",
      "execution_count": null,
      "id": "4c07477c",
      "metadata": {
        "colab": {
          "base_uri": "https://localhost:8080/"
        },
        "id": "4c07477c",
        "outputId": "eeb64d92-32fc-4d51-f8ac-136c249bfed7"
      },
      "outputs": [
        {
          "output_type": "stream",
          "name": "stdout",
          "text": [
            "[[0 1 0 1 0 1 0 1]\n",
            " [1 0 1 0 1 0 1 0]\n",
            " [0 1 0 1 0 1 0 1]\n",
            " [1 0 1 0 1 0 1 0]\n",
            " [0 1 0 1 0 1 0 1]\n",
            " [1 0 1 0 1 0 1 0]\n",
            " [0 1 0 1 0 1 0 1]\n",
            " [1 0 1 0 1 0 1 0]]\n"
          ]
        }
      ],
      "source": [
        "# prompt: Create a checkerboard 8x8 matrix using the tile function\n",
        "\n",
        "# Create a 2x2 checkerboard pattern\n",
        "checkerboard_pattern = np.array([[0, 1],\n",
        "                              [1, 0]])\n",
        "\n",
        "# Tile the checkerboard pattern to create an 8x8 checkerboard\n",
        "checkerboard = np.tile(checkerboard_pattern, (4, 4))\n",
        "\n",
        "# Print the checkerboard\n",
        "print(checkerboard)\n"
      ]
    },
    {
      "cell_type": "markdown",
      "id": "d5bcfc08",
      "metadata": {
        "id": "d5bcfc08"
      },
      "source": [
        "#### 22. Normalize a 5x5 random matrix"
      ]
    },
    {
      "cell_type": "code",
      "execution_count": null,
      "id": "cea6c993",
      "metadata": {
        "colab": {
          "base_uri": "https://localhost:8080/"
        },
        "id": "cea6c993",
        "outputId": "f712d9a0-7969-472a-a111-f6c25c675aec"
      },
      "outputs": [
        {
          "output_type": "stream",
          "name": "stdout",
          "text": [
            "[[0.10835229 0.27205876 0.30032437 0.3519679  0.94035587]\n",
            " [0.90951389 0.21593339 0.11233073 0.89447125 0.99685539]\n",
            " [0.66235699 0.36261829 0.47142141 0.76118074 0.04504381]\n",
            " [0.56174155 0.13582326 0.84146964 0.12630122 0.28685423]\n",
            " [0.36876684 0.08261548 1.         0.10106174 0.        ]]\n"
          ]
        }
      ],
      "source": [
        "# prompt: Normalize a 5x5 random matrix\n",
        "\n",
        "# Generate a random 5x5 matrix\n",
        "random_matrix = np.random.rand(5, 5)\n",
        "\n",
        "# Normalize the matrix\n",
        "normalized_matrix = (random_matrix - np.min(random_matrix)) / (np.max(random_matrix) - np.min(random_matrix))\n",
        "\n",
        "# Print the normalized matrix\n",
        "print(normalized_matrix)\n"
      ]
    },
    {
      "cell_type": "markdown",
      "id": "f9a0911e",
      "metadata": {
        "id": "f9a0911e"
      },
      "source": [
        "#### 23. Create a custom dtype that describes a color as four unsigned bytes (RGBA)"
      ]
    },
    {
      "cell_type": "code",
      "execution_count": null,
      "id": "d165044b",
      "metadata": {
        "id": "d165044b"
      },
      "outputs": [],
      "source": [
        "# prompt: Create a custom dtype that describes a color as four unsigned bytes (RGBA)\n",
        "\n",
        "import numpy as np\n",
        "\n",
        "color = np.dtype([(\"r\", np.ubyte, 1),\n",
        "                  (\"g\", np.ubyte, 1),\n",
        "                  (\"b\", np.ubyte, 1),\n",
        "                  (\"a\", np.ubyte, 1)])\n"
      ]
    },
    {
      "cell_type": "code",
      "execution_count": null,
      "id": "750a3e68",
      "metadata": {
        "id": "750a3e68"
      },
      "outputs": [],
      "source": []
    },
    {
      "cell_type": "markdown",
      "id": "654805b1",
      "metadata": {
        "id": "654805b1"
      },
      "source": [
        "#### 24. Multiply a 5x3 matrix by a 3x2 matrix (real matrix product)"
      ]
    },
    {
      "cell_type": "code",
      "execution_count": null,
      "id": "6a42619f",
      "metadata": {
        "colab": {
          "base_uri": "https://localhost:8080/"
        },
        "id": "6a42619f",
        "outputId": "7df2400c-bf6f-41a1-f820-553b581db5f7"
      },
      "outputs": [
        {
          "output_type": "stream",
          "name": "stdout",
          "text": [
            "[[ 22  28]\n",
            " [ 49  64]\n",
            " [ 76 100]\n",
            " [103 136]\n",
            " [130 172]]\n"
          ]
        }
      ],
      "source": [
        "# prompt: Multiply a 5x3 matrix by a 3x2 matrix (real matrix product)\n",
        "\n",
        "import numpy as np\n",
        "\n",
        "# Create a 5x3 matrix\n",
        "matrix_a = np.array([[1, 2, 3],\n",
        "                     [4, 5, 6],\n",
        "                     [7, 8, 9],\n",
        "                     [10, 11, 12],\n",
        "                     [13, 14, 15]])\n",
        "\n",
        "# Create a 3x2 matrix\n",
        "matrix_b = np.array([[1, 2],\n",
        "                     [3, 4],\n",
        "                     [5, 6]])\n",
        "\n",
        "# Multiply the matrices\n",
        "matrix_product = np.dot(matrix_a, matrix_b)\n",
        "\n",
        "# Print the matrix product\n",
        "print(matrix_product)\n"
      ]
    },
    {
      "cell_type": "markdown",
      "id": "994c25df",
      "metadata": {
        "id": "994c25df"
      },
      "source": [
        "#### 25. Given a 1D array, negate all elements which are between 3 and 8, in place."
      ]
    },
    {
      "cell_type": "code",
      "execution_count": null,
      "id": "e4b39c03",
      "metadata": {
        "colab": {
          "base_uri": "https://localhost:8080/"
        },
        "id": "e4b39c03",
        "outputId": "a1f51e87-5f72-472e-c25b-5af29f3d6f15"
      },
      "outputs": [
        {
          "output_type": "stream",
          "name": "stdout",
          "text": [
            "[ 0  1  2 -3 -4 -5 -6 -7 -8  9 10]\n"
          ]
        }
      ],
      "source": [
        "# prompt:  Given a 1D array, negate all elements which are between 3 and 8, in place.\n",
        "\n",
        "import numpy as np\n",
        "\n",
        "# Create a 1D array\n",
        "array = np.arange(11)\n",
        "\n",
        "# Find the indices of elements between 3 and 8\n",
        "indices = np.where((array >= 3) & (array <= 8))\n",
        "\n",
        "# Negate the elements at the specified indices\n",
        "array[indices] *= -1\n",
        "\n",
        "# Print the modified array\n",
        "print(array)\n"
      ]
    },
    {
      "cell_type": "markdown",
      "id": "b7d15d1a",
      "metadata": {
        "id": "b7d15d1a"
      },
      "source": [
        "#### 26. What is the output of the following script?\n",
        "```python\n",
        "# Author: Jake VanderPlas\n",
        "\n",
        "print(sum(range(5),-1))\n",
        "from numpy import *\n",
        "print(sum(range(5),-1))\n",
        "```"
      ]
    },
    {
      "cell_type": "code",
      "execution_count": null,
      "id": "4c95bc3f",
      "metadata": {
        "colab": {
          "base_uri": "https://localhost:8080/"
        },
        "id": "4c95bc3f",
        "outputId": "cbb7ec4a-8b91-48ab-b094-6acff5f04bb8"
      },
      "outputs": [
        {
          "output_type": "stream",
          "name": "stdout",
          "text": [
            "9\n",
            "10\n"
          ]
        }
      ],
      "source": [
        "# prompt: What is the output of the following script?\n",
        "# # Author: Jake VanderPlas\n",
        "# print(sum(range(5),-1))\n",
        "# from numpy import *\n",
        "# print(sum(range(5),-1))\n",
        "\n",
        "# Author: Jake VanderPlas\n",
        "\n",
        "print(sum(range(5),-1))\n",
        "from numpy import *\n",
        "print(sum(range(5),-1))\n",
        "\n"
      ]
    },
    {
      "cell_type": "markdown",
      "id": "a34f0d08",
      "metadata": {
        "id": "a34f0d08"
      },
      "source": [
        "#### 27. Consider an integer vector Z, which of these expressions are legal?\n",
        "```python\n",
        "Z**Z\n",
        "2 << Z >> 2\n",
        "Z <- Z\n",
        "1j*Z\n",
        "Z/1/1\n",
        "Z<Z>Z\n",
        "```"
      ]
    },
    {
      "cell_type": "code",
      "execution_count": null,
      "id": "564658fc",
      "metadata": {
        "colab": {
          "base_uri": "https://localhost:8080/",
          "height": 234
        },
        "id": "564658fc",
        "outputId": "53b6b222-6c71-4902-f910-80de51735826"
      },
      "outputs": [
        {
          "output_type": "error",
          "ename": "NameError",
          "evalue": "name 'Z' is not defined",
          "traceback": [
            "\u001b[0;31m---------------------------------------------------------------------------\u001b[0m",
            "\u001b[0;31mNameError\u001b[0m                                 Traceback (most recent call last)",
            "\u001b[0;32m<ipython-input-26-560c5f9dc60c>\u001b[0m in \u001b[0;36m<cell line: 9>\u001b[0;34m()\u001b[0m\n\u001b[1;32m      7\u001b[0m \u001b[0;31m# Z<Z>Z\u001b[0m\u001b[0;34m\u001b[0m\u001b[0;34m\u001b[0m\u001b[0m\n\u001b[1;32m      8\u001b[0m \u001b[0;34m\u001b[0m\u001b[0m\n\u001b[0;32m----> 9\u001b[0;31m \u001b[0mZ\u001b[0m\u001b[0;34m**\u001b[0m\u001b[0mZ\u001b[0m  \u001b[0;31m# Legal\u001b[0m\u001b[0;34m\u001b[0m\u001b[0;34m\u001b[0m\u001b[0m\n\u001b[0m\u001b[1;32m     10\u001b[0m \u001b[0;36m2\u001b[0m \u001b[0;34m<<\u001b[0m \u001b[0mZ\u001b[0m \u001b[0;34m>>\u001b[0m \u001b[0;36m2\u001b[0m  \u001b[0;31m# Legal\u001b[0m\u001b[0;34m\u001b[0m\u001b[0;34m\u001b[0m\u001b[0m\n\u001b[1;32m     11\u001b[0m \u001b[0;31m# Z <- Z  # Illegal\u001b[0m\u001b[0;34m\u001b[0m\u001b[0;34m\u001b[0m\u001b[0m\n",
            "\u001b[0;31mNameError\u001b[0m: name 'Z' is not defined"
          ]
        }
      ],
      "source": [
        "# prompt: Consider an integer vector Z, which of these expressions are legal?\n",
        "# Z**Z\n",
        "# 2 << Z >> 2\n",
        "# Z <- Z\n",
        "# 1j*Z\n",
        "# Z/1/1\n",
        "# Z<Z>Z\n",
        "\n",
        "Z**Z  # Legal\n",
        "2 << Z >> 2  # Legal\n",
        "# Z <- Z  # Illegal\n",
        "1j*Z  # Legal\n",
        "Z/1/1  # Legal\n",
        "# Z<Z>Z  # Illegal\n"
      ]
    },
    {
      "cell_type": "markdown",
      "id": "c34e94bf",
      "metadata": {
        "id": "c34e94bf"
      },
      "source": [
        "#### 28. What are the result of the following expressions?\n",
        "```python\n",
        "np.array(0) / np.array(0)\n",
        "np.array(0) // np.array(0)\n",
        "np.array([np.nan]).astype(int).astype(float)\n",
        "```"
      ]
    },
    {
      "cell_type": "code",
      "execution_count": null,
      "id": "56663562",
      "metadata": {
        "colab": {
          "base_uri": "https://localhost:8080/"
        },
        "id": "56663562",
        "outputId": "d0889836-2a10-4d50-f611-08a0860964bc"
      },
      "outputs": [
        {
          "output_type": "stream",
          "name": "stdout",
          "text": [
            "nan\n",
            "0\n",
            "[-9.22337204e+18]\n"
          ]
        },
        {
          "output_type": "stream",
          "name": "stderr",
          "text": [
            "<ipython-input-27-e6702719d63c>:6: RuntimeWarning: invalid value encountered in divide\n",
            "  print(np.array(0) / np.array(0))  # Output: nan\n",
            "<ipython-input-27-e6702719d63c>:7: RuntimeWarning: divide by zero encountered in floor_divide\n",
            "  print(np.array(0) // np.array(0))  # Output: 0\n",
            "<ipython-input-27-e6702719d63c>:8: RuntimeWarning: invalid value encountered in cast\n",
            "  print(np.array([np.nan]).astype(int).astype(float))  # Output: [-2.14748365e+09]\n"
          ]
        }
      ],
      "source": [
        "# prompt: What are the result of the following expressions?\n",
        "# np.array(0) / np.array(0)\n",
        "# np.array(0) // np.array(0)\n",
        "# np.array([np.nan]).astype(int).astype(float)\n",
        "\n",
        "print(np.array(0) / np.array(0))  # Output: nan\n",
        "print(np.array(0) // np.array(0))  # Output: 0\n",
        "print(np.array([np.nan]).astype(int).astype(float))  # Output: [-2.14748365e+09]\n"
      ]
    },
    {
      "cell_type": "markdown",
      "id": "546f5e7b",
      "metadata": {
        "id": "546f5e7b"
      },
      "source": [
        "#### 29. How to round away from zero a float array ?"
      ]
    },
    {
      "cell_type": "code",
      "execution_count": null,
      "id": "f725a6d2",
      "metadata": {
        "colab": {
          "base_uri": "https://localhost:8080/"
        },
        "id": "f725a6d2",
        "outputId": "a0046d41-4142-4cc4-a82e-dc1d363528e0"
      },
      "outputs": [
        {
          "output_type": "stream",
          "name": "stdout",
          "text": [
            "[ 1.  1. -1. -1.]\n"
          ]
        }
      ],
      "source": [
        "# prompt: How to round away from zero a float array ?\n",
        "\n",
        "array = np.array([1.1, 1.5, -1.1, -1.5])\n",
        "print(np.trunc(array))\n"
      ]
    },
    {
      "cell_type": "markdown",
      "id": "eadca856",
      "metadata": {
        "id": "eadca856"
      },
      "source": [
        "#### 30. How to find common values between two arrays?"
      ]
    },
    {
      "cell_type": "code",
      "execution_count": null,
      "id": "e0270b5b",
      "metadata": {
        "colab": {
          "base_uri": "https://localhost:8080/"
        },
        "id": "e0270b5b",
        "outputId": "2dfc0baa-e898-4f50-ebcc-be9efd0ce849"
      },
      "outputs": [
        {
          "output_type": "stream",
          "name": "stdout",
          "text": [
            "[3 4 5]\n"
          ]
        }
      ],
      "source": [
        "# prompt: How to find common values between two arrays?\n",
        "\n",
        "# Create two arrays\n",
        "array1 = np.array([1, 2, 3, 4, 5])\n",
        "array2 = np.array([3, 4, 5, 6, 7])\n",
        "\n",
        "# Find common values\n",
        "common_values = np.intersect1d(array1, array2)\n",
        "\n",
        "# Print the common values\n",
        "print(common_values)\n",
        "\n"
      ]
    },
    {
      "cell_type": "markdown",
      "id": "ca16ca22",
      "metadata": {
        "id": "ca16ca22"
      },
      "source": [
        "#### 31. How to ignore all numpy warnings (not recommended)?"
      ]
    },
    {
      "cell_type": "code",
      "execution_count": null,
      "id": "7d7208ef",
      "metadata": {
        "colab": {
          "base_uri": "https://localhost:8080/"
        },
        "id": "7d7208ef",
        "outputId": "a8a5070c-4689-4a1e-ca9e-e9ad13119d8e"
      },
      "outputs": [
        {
          "output_type": "stream",
          "name": "stdout",
          "text": [
            "[ nan  inf -inf]\n"
          ]
        }
      ],
      "source": [
        "# prompt: How to ignore all numpy warnings (not recommended)?\n",
        "\n",
        "import numpy as np\n",
        "import warnings\n",
        "\n",
        "# Ignore all numpy warnings\n",
        "warnings.filterwarnings(\"ignore\")\n",
        "\n",
        "# Create an array with invalid values\n",
        "array = np.array([np.nan, np.inf, -np.inf])\n",
        "\n",
        "# Print the array without warnings\n",
        "print(array)\n"
      ]
    },
    {
      "cell_type": "markdown",
      "id": "c7871d0d",
      "metadata": {
        "id": "c7871d0d"
      },
      "source": [
        "#### 32. Is the following expressions true?\n",
        "```python\n",
        "np.sqrt(-1) == np.emath.sqrt(-1)\n",
        "```"
      ]
    },
    {
      "cell_type": "code",
      "execution_count": null,
      "id": "acc3701a",
      "metadata": {
        "colab": {
          "base_uri": "https://localhost:8080/"
        },
        "id": "acc3701a",
        "outputId": "ca6cfa57-745b-4fd6-8569-a787a5cc8f46"
      },
      "outputs": [
        {
          "output_type": "stream",
          "name": "stdout",
          "text": [
            "False\n"
          ]
        }
      ],
      "source": [
        "# prompt: Is the following expressions true?\n",
        "# np.sqrt(-1) == np.emath.sqrt(-1)\n",
        "\n",
        "print(np.sqrt(-1) == np.emath.sqrt(-1))\n"
      ]
    },
    {
      "cell_type": "markdown",
      "id": "e0433e30",
      "metadata": {
        "id": "e0433e30"
      },
      "source": [
        "#### 33. How to get the dates of yesterday, today and tomorrow?"
      ]
    },
    {
      "cell_type": "code",
      "execution_count": null,
      "id": "9c4d2152",
      "metadata": {
        "colab": {
          "base_uri": "https://localhost:8080/"
        },
        "id": "9c4d2152",
        "outputId": "07834045-cc65-4c1d-bdfe-4d31dd20609d"
      },
      "outputs": [
        {
          "output_type": "stream",
          "name": "stdout",
          "text": [
            "Yesterday: 2024-07-04\n",
            "Today: 2024-07-05\n",
            "Tomorrow: 2024-07-06\n"
          ]
        }
      ],
      "source": [
        "# prompt: How to get the dates of yesterday, today and tomorrow?\n",
        "\n",
        "import datetime\n",
        "\n",
        "# Get today's date\n",
        "today = datetime.date.today()\n",
        "\n",
        "# Get yesterday's date\n",
        "yesterday = today - datetime.timedelta(days=1)\n",
        "\n",
        "# Get tomorrow's date\n",
        "tomorrow = today + datetime.timedelta(days=1)\n",
        "\n",
        "# Print the dates\n",
        "print(f\"Yesterday: {yesterday}\")\n",
        "print(f\"Today: {today}\")\n",
        "print(f\"Tomorrow: {tomorrow}\")\n"
      ]
    },
    {
      "cell_type": "markdown",
      "id": "9f52a2ef",
      "metadata": {
        "id": "9f52a2ef"
      },
      "source": [
        "#### 34. How to get all the dates corresponding to the month of July 2016?"
      ]
    },
    {
      "cell_type": "code",
      "execution_count": null,
      "id": "d6c34dec",
      "metadata": {
        "colab": {
          "base_uri": "https://localhost:8080/"
        },
        "id": "d6c34dec",
        "outputId": "b6e784f0-5682-4af8-dfbb-4f31d76f382b"
      },
      "outputs": [
        {
          "output_type": "stream",
          "name": "stdout",
          "text": [
            "0\n",
            "0\n",
            "0\n",
            "0\n",
            "1\n",
            "2\n",
            "3\n",
            "4\n",
            "5\n",
            "6\n",
            "7\n",
            "8\n",
            "9\n",
            "10\n",
            "11\n",
            "12\n",
            "13\n",
            "14\n",
            "15\n",
            "16\n",
            "17\n",
            "18\n",
            "19\n",
            "20\n",
            "21\n",
            "22\n",
            "23\n",
            "24\n",
            "25\n",
            "26\n",
            "27\n",
            "28\n",
            "29\n",
            "30\n",
            "31\n"
          ]
        }
      ],
      "source": [
        "# prompt: How to get all the dates corresponding to the month of July 2016?\n",
        "\n",
        "import calendar\n",
        "\n",
        "# Get all the dates in July 2016\n",
        "dates = calendar.monthcalendar(2016, 7)\n",
        "\n",
        "# Print the dates\n",
        "for week in dates:\n",
        "    for date in week:\n",
        "        print(date)\n"
      ]
    },
    {
      "cell_type": "markdown",
      "id": "4a64e059",
      "metadata": {
        "id": "4a64e059"
      },
      "source": [
        "#### 35. How to compute ((A+B)*(-A/2)) in place (without copy)?"
      ]
    },
    {
      "cell_type": "code",
      "execution_count": null,
      "id": "49267f60",
      "metadata": {
        "colab": {
          "base_uri": "https://localhost:8080/"
        },
        "id": "49267f60",
        "outputId": "99499681-e022-4e55-9636-10a687a85d12"
      },
      "outputs": [
        {
          "output_type": "execute_result",
          "data": {
            "text/plain": [
              "array([-1.5, -1.5, -1.5])"
            ]
          },
          "metadata": {},
          "execution_count": 34
        }
      ],
      "source": [
        "# prompt: How to compute ((A+B)*(-A/2)) in place (without copy)?\n",
        "\n",
        "A = np.ones(3)*1\n",
        "B = np.ones(3)*2\n",
        "np.add(A,B,out=B)\n",
        "np.divide(A,2,out=A)\n",
        "np.negative(A,out=A)\n",
        "np.multiply(B,A,out=B)\n"
      ]
    },
    {
      "cell_type": "markdown",
      "id": "8a98c2a8",
      "metadata": {
        "id": "8a98c2a8"
      },
      "source": [
        "#### 36. Extract the integer part of a random array of positive numbers using 4 different methods"
      ]
    },
    {
      "cell_type": "code",
      "execution_count": null,
      "id": "368130b3",
      "metadata": {
        "colab": {
          "base_uri": "https://localhost:8080/"
        },
        "id": "368130b3",
        "outputId": "31ea24b2-9a6a-462e-dd4f-f4ba4eb0fe7f"
      },
      "outputs": [
        {
          "output_type": "stream",
          "name": "stdout",
          "text": [
            "Original array: [60.07704878 40.20794247 52.30641707 10.92481595 87.81621595  8.3367603\n",
            " 65.02666532 95.22440371 57.94800879 96.89573627]\n",
            "Integer part (np.floor): [60. 40. 52. 10. 87.  8. 65. 95. 57. 96.]\n",
            "Integer part (np.trunc): [60. 40. 52. 10. 87.  8. 65. 95. 57. 96.]\n",
            "Integer part (// operator): [60. 40. 52. 10. 87.  8. 65. 95. 57. 96.]\n",
            "Integer part (astype(int)): [60 40 52 10 87  8 65 95 57 96]\n"
          ]
        }
      ],
      "source": [
        "# prompt: Extract the integer part of a random array of positive numbers using 4 different methods\n",
        "\n",
        "# Generate a random array of positive numbers\n",
        "array = np.random.rand(10) * 100\n",
        "\n",
        "# Method 1: Using np.floor\n",
        "integer_part_1 = np.floor(array)\n",
        "\n",
        "# Method 2: Using np.trunc\n",
        "integer_part_2 = np.trunc(array)\n",
        "\n",
        "# Method 3: Using // operator\n",
        "integer_part_3 = array // 1\n",
        "\n",
        "# Method 4: Casting to integer type\n",
        "integer_part_4 = array.astype(int)\n",
        "\n",
        "# Print the results\n",
        "print(\"Original array:\", array)\n",
        "print(\"Integer part (np.floor):\", integer_part_1)\n",
        "print(\"Integer part (np.trunc):\", integer_part_2)\n",
        "print(\"Integer part (// operator):\", integer_part_3)\n",
        "print(\"Integer part (astype(int)):\", integer_part_4)\n"
      ]
    },
    {
      "cell_type": "markdown",
      "id": "5a2e3d85",
      "metadata": {
        "id": "5a2e3d85"
      },
      "source": [
        "#### 37. Create a 5x5 matrix with row values ranging from 0 to 4"
      ]
    },
    {
      "cell_type": "code",
      "execution_count": null,
      "id": "1d974e8f",
      "metadata": {
        "colab": {
          "base_uri": "https://localhost:8080/"
        },
        "id": "1d974e8f",
        "outputId": "1a639895-ddfc-4a54-e8bc-45555725c229"
      },
      "outputs": [
        {
          "output_type": "stream",
          "name": "stdout",
          "text": [
            "[[0. 0. 0. 0. 0.]\n",
            " [1. 1. 1. 1. 1.]\n",
            " [2. 2. 2. 2. 2.]\n",
            " [3. 3. 3. 3. 3.]\n",
            " [4. 4. 4. 4. 4.]]\n"
          ]
        }
      ],
      "source": [
        "# prompt: Create a 5x5 matrix with row values ranging from 0 to 4\n",
        "\n",
        "import numpy as np\n",
        "\n",
        "matrix = np.zeros((5, 5))\n",
        "for i in range(5):\n",
        "    matrix[i, :] = i\n",
        "\n",
        "print(matrix)\n"
      ]
    },
    {
      "cell_type": "markdown",
      "id": "9720e2d5",
      "metadata": {
        "id": "9720e2d5"
      },
      "source": [
        "#### 38. Consider a generator function that generates 10 integers and use it to build an array"
      ]
    },
    {
      "cell_type": "code",
      "execution_count": null,
      "id": "e5dd8fc9",
      "metadata": {
        "colab": {
          "base_uri": "https://localhost:8080/"
        },
        "id": "e5dd8fc9",
        "outputId": "85eb4a92-a7b2-46af-adf0-e4f4ef27d2ee"
      },
      "outputs": [
        {
          "output_type": "stream",
          "name": "stdout",
          "text": [
            "[0 1 2 3 4 5 6 7 8 9]\n"
          ]
        }
      ],
      "source": [
        "# prompt: Consider a generator function that generates 10 integers and use it to build an array\n",
        "\n",
        "def generate_integers():\n",
        "    for i in range(10):\n",
        "        yield i\n",
        "\n",
        "# Create an array from the generator function\n",
        "array = np.fromiter(generate_integers(), dtype=int)\n",
        "\n",
        "# Print the array\n",
        "print(array)\n"
      ]
    },
    {
      "cell_type": "markdown",
      "id": "c6f2c912",
      "metadata": {
        "id": "c6f2c912"
      },
      "source": [
        "#### 39. Create a vector of size 10 with values ranging from 0 to 1, both excluded"
      ]
    },
    {
      "cell_type": "code",
      "execution_count": null,
      "id": "6aaa27d3",
      "metadata": {
        "colab": {
          "base_uri": "https://localhost:8080/"
        },
        "id": "6aaa27d3",
        "outputId": "612b5509-dbba-4e2d-97db-4caa6f150dd0"
      },
      "outputs": [
        {
          "output_type": "execute_result",
          "data": {
            "text/plain": [
              "array([0. , 0.1, 0.2, 0.3, 0.4, 0.5, 0.6, 0.7, 0.8, 0.9])"
            ]
          },
          "metadata": {},
          "execution_count": 38
        }
      ],
      "source": [
        "# prompt: Create a vector of size 10 with values ranging from 0 to 1, both excluded\n",
        "\n",
        "np.linspace(0, 1, 10, endpoint=False)\n"
      ]
    },
    {
      "cell_type": "markdown",
      "id": "a36d6ee4",
      "metadata": {
        "id": "a36d6ee4"
      },
      "source": [
        "#### 40. Create a random vector of size 10 and sort it"
      ]
    },
    {
      "cell_type": "code",
      "execution_count": null,
      "id": "e589d216",
      "metadata": {
        "colab": {
          "base_uri": "https://localhost:8080/"
        },
        "id": "e589d216",
        "outputId": "dff22b4f-3eef-4a15-a32e-6374248adde7"
      },
      "outputs": [
        {
          "output_type": "stream",
          "name": "stdout",
          "text": [
            "[0.00981857 0.21809545 0.35603193 0.39503271 0.51759003 0.56944273\n",
            " 0.78378117 0.88310692 0.93259798 0.98001835]\n"
          ]
        }
      ],
      "source": [
        "# prompt: Create a random vector of size 10 and sort it\n",
        "\n",
        "random_vector = np.random.rand(10)\n",
        "sorted_vector = np.sort(random_vector)\n",
        "\n",
        "print(sorted_vector)\n"
      ]
    },
    {
      "cell_type": "markdown",
      "id": "0fb4ad68",
      "metadata": {
        "id": "0fb4ad68"
      },
      "source": [
        "#### 41. How to sum a small array faster than np.sum?"
      ]
    },
    {
      "cell_type": "code",
      "execution_count": null,
      "id": "a1ba05a0",
      "metadata": {
        "colab": {
          "base_uri": "https://localhost:8080/"
        },
        "id": "a1ba05a0",
        "outputId": "d453fa72-7812-40a9-9a25-d009468ea2a6"
      },
      "outputs": [
        {
          "output_type": "stream",
          "name": "stdout",
          "text": [
            "15\n"
          ]
        }
      ],
      "source": [
        "# prompt: How to sum a small array faster than np.sum?\n",
        "\n",
        "def faster_sum(array):\n",
        "  \"\"\"\n",
        "  Sum a small array faster than np.sum.\n",
        "\n",
        "  Args:\n",
        "      array: The array to sum.\n",
        "\n",
        "  Returns:\n",
        "      The sum of the array.\n",
        "  \"\"\"\n",
        "  sum = 0\n",
        "  for i in array:\n",
        "    sum += i\n",
        "  return sum\n",
        "\n",
        "array = np.array([1, 2, 3, 4, 5])\n",
        "print(faster_sum(array))\n"
      ]
    },
    {
      "cell_type": "markdown",
      "id": "024ac365",
      "metadata": {
        "id": "024ac365"
      },
      "source": [
        "#### 42. Consider two random array A and B, check if they are equal"
      ]
    },
    {
      "cell_type": "code",
      "execution_count": null,
      "id": "7db3846d",
      "metadata": {
        "colab": {
          "base_uri": "https://localhost:8080/"
        },
        "id": "7db3846d",
        "outputId": "2278652b-f5cc-4689-a6e3-1fecdbf66982"
      },
      "outputs": [
        {
          "output_type": "stream",
          "name": "stdout",
          "text": [
            "Are arrays A and B equal? False\n"
          ]
        }
      ],
      "source": [
        "# prompt: Consider two random array A and B, check if they are equal\n",
        "\n",
        "import numpy as np\n",
        "\n",
        "# Generate two random arrays\n",
        "A = np.random.rand(3, 3)\n",
        "B = np.random.rand(3, 3)\n",
        "\n",
        "# Compare the arrays\n",
        "equal_arrays = np.array_equal(A, B)\n",
        "\n",
        "# Print the result\n",
        "print(f\"Are arrays A and B equal? {equal_arrays}\")\n"
      ]
    },
    {
      "cell_type": "markdown",
      "id": "c68d2401",
      "metadata": {
        "id": "c68d2401"
      },
      "source": [
        "#### 43. Make an array immutable (read-only)"
      ]
    },
    {
      "cell_type": "code",
      "execution_count": null,
      "id": "7828539d",
      "metadata": {
        "colab": {
          "base_uri": "https://localhost:8080/"
        },
        "id": "7828539d",
        "outputId": "e633f8f0-8459-459f-fd04-a91ae76cfe83"
      },
      "outputs": [
        {
          "output_type": "stream",
          "name": "stdout",
          "text": [
            "Error: assignment destination is read-only\n",
            "[[0.38307269 0.12856439 0.67918941]\n",
            " [0.53608224 0.8734126  0.20364492]\n",
            " [0.7293701  0.40824654 0.15956692]]\n"
          ]
        }
      ],
      "source": [
        "# prompt: Make an array immutable (read-only)\n",
        "\n",
        "import numpy as np\n",
        "\n",
        "# Create a random array\n",
        "array = np.random.rand(3, 3)\n",
        "\n",
        "# Make the array immutable\n",
        "array.flags.writeable = False\n",
        "\n",
        "# Try to modify the array\n",
        "try:\n",
        "    array[0, 0] = 1\n",
        "except ValueError as e:\n",
        "    print(f\"Error: {e}\")\n",
        "\n",
        "# Print the array\n",
        "print(array)\n"
      ]
    },
    {
      "cell_type": "markdown",
      "id": "55df6280",
      "metadata": {
        "id": "55df6280"
      },
      "source": [
        "#### 44. Consider a random 10x2 matrix representing cartesian coordinates, convert them to polar coordinates"
      ]
    },
    {
      "cell_type": "code",
      "execution_count": null,
      "id": "f1c86ea0",
      "metadata": {
        "colab": {
          "base_uri": "https://localhost:8080/"
        },
        "id": "f1c86ea0",
        "outputId": "6e387dc0-b31b-4bc8-eb3d-e1e15f4322d9"
      },
      "outputs": [
        {
          "output_type": "stream",
          "name": "stdout",
          "text": [
            "[0.0975778  0.93283126 0.414908   1.52241897 0.43705118 0.23288085\n",
            " 0.36752412 1.18709081 0.26628914 1.20339483]\n"
          ]
        }
      ],
      "source": [
        "# prompt: Consider a random 10x2 matrix representing cartesian coordinates, convert them to polar coordinates\n",
        "\n",
        "# Generate a random 10x2 matrix representing cartesian coordinates\n",
        "cartesian_coordinates = np.random.rand(10, 2)\n",
        "\n",
        "# Convert cartesian coordinates to polar coordinates\n",
        "polar_coordinates = np.sqrt(np.sum(cartesian_coordinates**2, axis=1)).reshape(-1, 1)\n",
        "polar_coordinates = np.arctan2(cartesian_coordinates[:, 1], cartesian_coordinates[:, 0])\n",
        "\n",
        "# Print the polar coordinates\n",
        "print(polar_coordinates)\n"
      ]
    },
    {
      "cell_type": "markdown",
      "id": "2f60f1ec",
      "metadata": {
        "id": "2f60f1ec"
      },
      "source": [
        "#### 45. Create random vector of size 10 and replace the maximum value by 0"
      ]
    },
    {
      "cell_type": "code",
      "execution_count": null,
      "id": "d9f48f1c",
      "metadata": {
        "colab": {
          "base_uri": "https://localhost:8080/"
        },
        "id": "d9f48f1c",
        "outputId": "bedbb729-088e-422e-d215-03bc464b3e51"
      },
      "outputs": [
        {
          "output_type": "stream",
          "name": "stdout",
          "text": [
            "[0.2204689  0.33027892 0.03110698 0.66353895 0.24594955 0.54860705\n",
            " 0.         0.92390986 0.03173946 0.95708642]\n"
          ]
        }
      ],
      "source": [
        "# prompt: Create random vector of size 10 and replace the maximum value by 0\n",
        "\n",
        "import numpy as np\n",
        "\n",
        "# Create random vector of size 10\n",
        "vector = np.random.rand(10)\n",
        "\n",
        "# Find the maximum value\n",
        "max_value = np.max(vector)\n",
        "\n",
        "# Replace the maximum value with 0\n",
        "vector[vector == max_value] = 0\n",
        "\n",
        "# Print the modified vector\n",
        "print(vector)\n"
      ]
    },
    {
      "cell_type": "markdown",
      "id": "084e8ad4",
      "metadata": {
        "id": "084e8ad4"
      },
      "source": [
        "#### 46. Create a structured array with `x` and `y` coordinates covering the [0,1]x[0,1] area"
      ]
    },
    {
      "cell_type": "code",
      "execution_count": null,
      "id": "58b47c13",
      "metadata": {
        "colab": {
          "base_uri": "https://localhost:8080/"
        },
        "id": "58b47c13",
        "outputId": "81fc36b9-5ba0-4ec7-f431-161c2feef3e4"
      },
      "outputs": [
        {
          "output_type": "stream",
          "name": "stdout",
          "text": [
            "[[(0.        , 0.        ) (0.11111111, 0.        )\n",
            "  (0.22222222, 0.        ) (0.33333333, 0.        )\n",
            "  (0.44444444, 0.        ) (0.55555556, 0.        )\n",
            "  (0.66666667, 0.        ) (0.77777778, 0.        )\n",
            "  (0.88888889, 0.        ) (1.        , 0.        )]\n",
            " [(0.        , 0.11111111) (0.11111111, 0.11111111)\n",
            "  (0.22222222, 0.11111111) (0.33333333, 0.11111111)\n",
            "  (0.44444444, 0.11111111) (0.55555556, 0.11111111)\n",
            "  (0.66666667, 0.11111111) (0.77777778, 0.11111111)\n",
            "  (0.88888889, 0.11111111) (1.        , 0.11111111)]\n",
            " [(0.        , 0.22222222) (0.11111111, 0.22222222)\n",
            "  (0.22222222, 0.22222222) (0.33333333, 0.22222222)\n",
            "  (0.44444444, 0.22222222) (0.55555556, 0.22222222)\n",
            "  (0.66666667, 0.22222222) (0.77777778, 0.22222222)\n",
            "  (0.88888889, 0.22222222) (1.        , 0.22222222)]\n",
            " [(0.        , 0.33333333) (0.11111111, 0.33333333)\n",
            "  (0.22222222, 0.33333333) (0.33333333, 0.33333333)\n",
            "  (0.44444444, 0.33333333) (0.55555556, 0.33333333)\n",
            "  (0.66666667, 0.33333333) (0.77777778, 0.33333333)\n",
            "  (0.88888889, 0.33333333) (1.        , 0.33333333)]\n",
            " [(0.        , 0.44444444) (0.11111111, 0.44444444)\n",
            "  (0.22222222, 0.44444444) (0.33333333, 0.44444444)\n",
            "  (0.44444444, 0.44444444) (0.55555556, 0.44444444)\n",
            "  (0.66666667, 0.44444444) (0.77777778, 0.44444444)\n",
            "  (0.88888889, 0.44444444) (1.        , 0.44444444)]\n",
            " [(0.        , 0.55555556) (0.11111111, 0.55555556)\n",
            "  (0.22222222, 0.55555556) (0.33333333, 0.55555556)\n",
            "  (0.44444444, 0.55555556) (0.55555556, 0.55555556)\n",
            "  (0.66666667, 0.55555556) (0.77777778, 0.55555556)\n",
            "  (0.88888889, 0.55555556) (1.        , 0.55555556)]\n",
            " [(0.        , 0.66666667) (0.11111111, 0.66666667)\n",
            "  (0.22222222, 0.66666667) (0.33333333, 0.66666667)\n",
            "  (0.44444444, 0.66666667) (0.55555556, 0.66666667)\n",
            "  (0.66666667, 0.66666667) (0.77777778, 0.66666667)\n",
            "  (0.88888889, 0.66666667) (1.        , 0.66666667)]\n",
            " [(0.        , 0.77777778) (0.11111111, 0.77777778)\n",
            "  (0.22222222, 0.77777778) (0.33333333, 0.77777778)\n",
            "  (0.44444444, 0.77777778) (0.55555556, 0.77777778)\n",
            "  (0.66666667, 0.77777778) (0.77777778, 0.77777778)\n",
            "  (0.88888889, 0.77777778) (1.        , 0.77777778)]\n",
            " [(0.        , 0.88888889) (0.11111111, 0.88888889)\n",
            "  (0.22222222, 0.88888889) (0.33333333, 0.88888889)\n",
            "  (0.44444444, 0.88888889) (0.55555556, 0.88888889)\n",
            "  (0.66666667, 0.88888889) (0.77777778, 0.88888889)\n",
            "  (0.88888889, 0.88888889) (1.        , 0.88888889)]\n",
            " [(0.        , 1.        ) (0.11111111, 1.        )\n",
            "  (0.22222222, 1.        ) (0.33333333, 1.        )\n",
            "  (0.44444444, 1.        ) (0.55555556, 1.        )\n",
            "  (0.66666667, 1.        ) (0.77777778, 1.        )\n",
            "  (0.88888889, 1.        ) (1.        , 1.        )]]\n"
          ]
        }
      ],
      "source": [
        "# prompt: Create a structured array with x and y coordinates covering the [0,1]x[0,1] area\n",
        "\n",
        "import numpy as np\n",
        "\n",
        "# Create a structured array with x and y coordinates\n",
        "structured_array = np.zeros((10, 10), dtype=[('x', float), ('y', float)])\n",
        "\n",
        "# Fill the array with x and y coordinates\n",
        "structured_array['x'] = np.linspace(0, 1, 10)\n",
        "structured_array['y'] = np.linspace(0, 1, 10)[:, np.newaxis]\n",
        "\n",
        "# Print the structured array\n",
        "print(structured_array)\n"
      ]
    },
    {
      "cell_type": "markdown",
      "id": "d7b9bc42",
      "metadata": {
        "id": "d7b9bc42"
      },
      "source": [
        "#### 47. Given two arrays, X and Y, construct the Cauchy matrix C (Cij =1/(xi - yj))"
      ]
    },
    {
      "cell_type": "code",
      "execution_count": null,
      "id": "a24824fb",
      "metadata": {
        "colab": {
          "base_uri": "https://localhost:8080/"
        },
        "id": "a24824fb",
        "outputId": "56bd7fc0-8bc2-4af3-a710-04775740693f"
      },
      "outputs": [
        {
          "output_type": "stream",
          "name": "stdout",
          "text": [
            "[[-0.33333333 -0.5        -1.        ]\n",
            " [-0.25       -0.33333333 -0.5       ]\n",
            " [-0.2        -0.25       -0.33333333]]\n"
          ]
        }
      ],
      "source": [
        "# prompt: Given two arrays, X and Y, construct the Cauchy matrix C (Cij =1/(xi - yj))\n",
        "\n",
        "def cauchy_matrix(X, Y):\n",
        "  \"\"\"\n",
        "  Constructs the Cauchy matrix C (Cij =1/(xi - yj)) given two arrays X and Y.\n",
        "\n",
        "  Args:\n",
        "      X: The first array.\n",
        "      Y: The second array.\n",
        "\n",
        "  Returns:\n",
        "      The Cauchy matrix C.\n",
        "  \"\"\"\n",
        "\n",
        "  # Broadcast the arrays to have the same shape\n",
        "  X, Y = np.broadcast_arrays(X, Y)\n",
        "\n",
        "  # Calculate the Cauchy matrix\n",
        "  C = 1 / (X - Y[:, np.newaxis])\n",
        "\n",
        "  return C\n",
        "\n",
        "# Example usage\n",
        "X = np.array([1, 2, 3])\n",
        "Y = np.array([4, 5, 6])\n",
        "\n",
        "C = cauchy_matrix(X, Y)\n",
        "\n",
        "print(C)\n"
      ]
    },
    {
      "cell_type": "markdown",
      "id": "65ebc11b",
      "metadata": {
        "id": "65ebc11b"
      },
      "source": [
        "#### 48. Print the minimum and maximum representable value for each numpy scalar type"
      ]
    },
    {
      "cell_type": "code",
      "execution_count": null,
      "id": "e45d38fb",
      "metadata": {
        "colab": {
          "base_uri": "https://localhost:8080/"
        },
        "id": "e45d38fb",
        "outputId": "d3117a54-efe3-4e45-94c6-d6b2716e51a0"
      },
      "outputs": [
        {
          "output_type": "stream",
          "name": "stdout",
          "text": [
            "bool_:\n",
            "  min: False\n",
            "  max: False\n",
            "\n",
            "int8:\n",
            "  min: 0\n",
            "  max: 0\n",
            "\n",
            "int16:\n",
            "  min: 0\n",
            "  max: 0\n",
            "\n",
            "int32:\n",
            "  min: 0\n",
            "  max: 0\n",
            "\n",
            "int64:\n",
            "  min: 0\n",
            "  max: 0\n",
            "\n",
            "uint8:\n",
            "  min: 0\n",
            "  max: 0\n",
            "\n",
            "uint16:\n",
            "  min: 0\n",
            "  max: 0\n",
            "\n",
            "uint32:\n",
            "  min: 0\n",
            "  max: 0\n",
            "\n",
            "uint64:\n",
            "  min: 0\n",
            "  max: 0\n",
            "\n",
            "float16:\n",
            "  min: 0.0\n",
            "  max: 0.0\n",
            "\n",
            "float32:\n",
            "  min: 0.0\n",
            "  max: 0.0\n",
            "\n",
            "float64:\n",
            "  min: 0.0\n",
            "  max: 0.0\n",
            "\n"
          ]
        }
      ],
      "source": [
        "# prompt:  Print the minimum and maximum representable value for each numpy scalar type\n",
        "\n",
        "for dtype in [np.bool_, np.int8, np.int16, np.int32, np.int64, np.uint8,\n",
        "                np.uint16, np.uint32, np.uint64, np.float16, np.float32, np.float64]:\n",
        "    print(f\"{dtype.__name__}:\")\n",
        "    print(f\"  min: {np.min(np.array([0], dtype=dtype))}\")\n",
        "    print(f\"  max: {np.max(np.array([0], dtype=dtype))}\")\n",
        "    print(\"\")\n"
      ]
    },
    {
      "cell_type": "markdown",
      "id": "9b317a98",
      "metadata": {
        "id": "9b317a98"
      },
      "source": [
        "#### 49. How to print all the values of an array?"
      ]
    },
    {
      "cell_type": "code",
      "execution_count": null,
      "id": "309cdeb9",
      "metadata": {
        "colab": {
          "base_uri": "https://localhost:8080/"
        },
        "id": "309cdeb9",
        "outputId": "87c7311c-bb96-462e-d2e0-91eb69c04a93"
      },
      "outputs": [
        {
          "output_type": "stream",
          "name": "stdout",
          "text": [
            "[ 0  1  2  3  4  5  6  7  8  9 10 11 12 13 14 15 16 17 18 19 20 21 22 23\n",
            " 24]\n"
          ]
        }
      ],
      "source": [
        "# prompt: How to print all the values of an array?\n",
        "\n",
        "import numpy as np\n",
        "\n",
        "# Create a 5x5 array\n",
        "array = np.arange(25).reshape(5, 5)\n",
        "\n",
        "# Print all the values of the array\n",
        "print(array.flatten())\n"
      ]
    },
    {
      "cell_type": "markdown",
      "id": "b580f9d0",
      "metadata": {
        "id": "b580f9d0"
      },
      "source": [
        "#### 50. How to find the closest value (to a given scalar) in a vector?"
      ]
    },
    {
      "cell_type": "code",
      "execution_count": null,
      "id": "ebfb6714",
      "metadata": {
        "colab": {
          "base_uri": "https://localhost:8080/"
        },
        "id": "ebfb6714",
        "outputId": "a81f4566-c5c8-4489-b87d-bc3a9bbebdf3"
      },
      "outputs": [
        {
          "output_type": "stream",
          "name": "stdout",
          "text": [
            "Closest value to 1.7 in the vector is: 1.8\n"
          ]
        }
      ],
      "source": [
        "# prompt: How to find the closest value (to a given scalar) in a vector?\n",
        "\n",
        "import numpy as np\n",
        "\n",
        "def find_closest_value(vector, scalar):\n",
        "  \"\"\"\n",
        "  Finds the closest value to a given scalar in a vector.\n",
        "\n",
        "  Args:\n",
        "      vector: The vector to search.\n",
        "      scalar: The scalar value to find the closest value to.\n",
        "\n",
        "  Returns:\n",
        "      The closest value in the vector to the scalar.\n",
        "  \"\"\"\n",
        "\n",
        "  # Calculate the absolute differences between the scalar and each element in the vector\n",
        "  differences = np.abs(vector - scalar)\n",
        "\n",
        "  # Find the index of the element with the smallest absolute difference\n",
        "  closest_index = np.argmin(differences)\n",
        "\n",
        "  # Return the closest value\n",
        "  return vector[closest_index]\n",
        "\n",
        "# Example usage\n",
        "vector = np.array([1.1, 1.5, 1.8, 2.2, 2.5])\n",
        "scalar = 1.7\n",
        "\n",
        "closest_value = find_closest_value(vector, scalar)\n",
        "\n",
        "print(f\"Closest value to {scalar} in the vector is: {closest_value}\")\n"
      ]
    },
    {
      "cell_type": "markdown",
      "id": "602e6252",
      "metadata": {
        "id": "602e6252"
      },
      "source": [
        "#### 51. Create a structured array representing a position (x,y) and a color (r,g,b)"
      ]
    },
    {
      "cell_type": "code",
      "execution_count": null,
      "id": "cf002b3a",
      "metadata": {
        "id": "cf002b3a"
      },
      "outputs": [],
      "source": [
        "# prompt: Create a structured array representing a position (x,y) and a color (r,g,b)\n",
        "\n",
        "color = np.dtype([('r', np.ubyte, 1),\n",
        "                  ('g', np.ubyte, 1),\n",
        "                  ('b', np.ubyte, 1)])\n",
        "\n",
        "position = np.dtype([('x', np.float64, 1),\n",
        "                  ('y', np.float64, 1)])\n",
        "\n",
        "structured_array = np.zeros((10, 1), dtype=[('position', position), ('color', color)])\n",
        "\n"
      ]
    },
    {
      "cell_type": "markdown",
      "id": "78bcd92f",
      "metadata": {
        "id": "78bcd92f"
      },
      "source": [
        "#### 52. Consider a random vector with shape (100,2) representing coordinates, find point by point distances"
      ]
    },
    {
      "cell_type": "code",
      "execution_count": null,
      "id": "fea7f9a6",
      "metadata": {
        "colab": {
          "base_uri": "https://localhost:8080/"
        },
        "id": "fea7f9a6",
        "outputId": "6c7d6aeb-30cc-4418-a791-083e8764fb83"
      },
      "outputs": [
        {
          "output_type": "stream",
          "name": "stdout",
          "text": [
            "[[0.         0.57548925 0.42176535 ... 0.81826563 0.52152182 0.53129956]\n",
            " [0.57548925 0.         0.51128198 ... 0.40791735 0.25578813 0.31917923]\n",
            " [0.42176535 0.51128198 0.         ... 0.90047293 0.28404579 0.69284733]\n",
            " ...\n",
            " [0.81826563 0.40791735 0.90047293 ... 0.         0.6634024  0.29405823]\n",
            " [0.52152182 0.25578813 0.28404579 ... 0.6634024  0.         0.52328674]\n",
            " [0.53129956 0.31917923 0.69284733 ... 0.29405823 0.52328674 0.        ]]\n"
          ]
        }
      ],
      "source": [
        "# prompt: Consider a random vector with shape (100,2) representing coordinates, find point by point distances\n",
        "\n",
        "import numpy as np\n",
        "\n",
        "# Generate a random vector with shape (100,2) representing coordinates\n",
        "coordinates = np.random.rand(100, 2)\n",
        "\n",
        "# Calculate the pairwise distances between all points\n",
        "distances = np.sqrt(np.sum((coordinates[:, np.newaxis, :] - coordinates[np.newaxis, :, :])**2, axis=-1))\n",
        "\n",
        "# Print the point by point distances\n",
        "print(distances)\n"
      ]
    },
    {
      "cell_type": "markdown",
      "id": "343c5a85",
      "metadata": {
        "id": "343c5a85"
      },
      "source": [
        "#### 53. How to convert a float (32 bits) array into an integer (32 bits) in place?"
      ]
    },
    {
      "cell_type": "code",
      "execution_count": null,
      "id": "fc1b687b",
      "metadata": {
        "colab": {
          "base_uri": "https://localhost:8080/"
        },
        "id": "fc1b687b",
        "outputId": "0ab0421f-4ea8-4850-ebc9-a97eb5b52863"
      },
      "outputs": [
        {
          "output_type": "stream",
          "name": "stdout",
          "text": [
            "[1. 2. 3. 4.]\n"
          ]
        }
      ],
      "source": [
        "# prompt: How to convert a float (32 bits) array into an integer (32 bits) in place?\n",
        "\n",
        "x = np.array([1.1, 2.2, 3.3, 4.4], dtype=np.float32)\n",
        "np.trunc(x, out=x)\n",
        "print(x)\n"
      ]
    },
    {
      "cell_type": "markdown",
      "id": "a69e1ace",
      "metadata": {
        "id": "a69e1ace"
      },
      "source": [
        "#### 54. How to read the following file?\n",
        "```\n",
        "1, 2, 3, 4, 5\n",
        "6,  ,  , 7, 8\n",
        " ,  , 9,10,11\n",
        "```"
      ]
    },
    {
      "cell_type": "code",
      "execution_count": null,
      "id": "1c7957d4",
      "metadata": {
        "colab": {
          "base_uri": "https://localhost:8080/",
          "height": 382
        },
        "id": "1c7957d4",
        "outputId": "41c20ec1-5956-4e25-f837-58bd610aedff"
      },
      "outputs": [
        {
          "output_type": "error",
          "ename": "FileNotFoundError",
          "evalue": "data.txt not found.",
          "traceback": [
            "\u001b[0;31m---------------------------------------------------------------------------\u001b[0m",
            "\u001b[0;31mFileNotFoundError\u001b[0m                         Traceback (most recent call last)",
            "\u001b[0;32m<ipython-input-59-8bba13295a25>\u001b[0m in \u001b[0;36m<cell line: 9>\u001b[0;34m()\u001b[0m\n\u001b[1;32m      7\u001b[0m \u001b[0;34m\u001b[0m\u001b[0m\n\u001b[1;32m      8\u001b[0m \u001b[0;31m# Read the file with missing values as NaN\u001b[0m\u001b[0;34m\u001b[0m\u001b[0;34m\u001b[0m\u001b[0m\n\u001b[0;32m----> 9\u001b[0;31m \u001b[0mdata\u001b[0m \u001b[0;34m=\u001b[0m \u001b[0mnp\u001b[0m\u001b[0;34m.\u001b[0m\u001b[0mgenfromtxt\u001b[0m\u001b[0;34m(\u001b[0m\u001b[0;34m'data.txt'\u001b[0m\u001b[0;34m,\u001b[0m \u001b[0mdelimiter\u001b[0m\u001b[0;34m=\u001b[0m\u001b[0;34m','\u001b[0m\u001b[0;34m,\u001b[0m \u001b[0mmissing_values\u001b[0m\u001b[0;34m=\u001b[0m\u001b[0;34m' '\u001b[0m\u001b[0;34m)\u001b[0m\u001b[0;34m\u001b[0m\u001b[0;34m\u001b[0m\u001b[0m\n\u001b[0m\u001b[1;32m     10\u001b[0m \u001b[0;34m\u001b[0m\u001b[0m\n\u001b[1;32m     11\u001b[0m \u001b[0;31m# Print the data\u001b[0m\u001b[0;34m\u001b[0m\u001b[0;34m\u001b[0m\u001b[0m\n",
            "\u001b[0;32m/usr/local/lib/python3.10/dist-packages/numpy/lib/npyio.py\u001b[0m in \u001b[0;36mgenfromtxt\u001b[0;34m(fname, dtype, comments, delimiter, skip_header, skip_footer, converters, missing_values, filling_values, usecols, names, excludelist, deletechars, replace_space, autostrip, case_sensitive, defaultfmt, unpack, usemask, loose, invalid_raise, max_rows, encoding, ndmin, like)\u001b[0m\n\u001b[1;32m   1978\u001b[0m         \u001b[0mfname\u001b[0m \u001b[0;34m=\u001b[0m \u001b[0mos_fspath\u001b[0m\u001b[0;34m(\u001b[0m\u001b[0mfname\u001b[0m\u001b[0;34m)\u001b[0m\u001b[0;34m\u001b[0m\u001b[0;34m\u001b[0m\u001b[0m\n\u001b[1;32m   1979\u001b[0m     \u001b[0;32mif\u001b[0m \u001b[0misinstance\u001b[0m\u001b[0;34m(\u001b[0m\u001b[0mfname\u001b[0m\u001b[0;34m,\u001b[0m \u001b[0mstr\u001b[0m\u001b[0;34m)\u001b[0m\u001b[0;34m:\u001b[0m\u001b[0;34m\u001b[0m\u001b[0;34m\u001b[0m\u001b[0m\n\u001b[0;32m-> 1980\u001b[0;31m         \u001b[0mfid\u001b[0m \u001b[0;34m=\u001b[0m \u001b[0mnp\u001b[0m\u001b[0;34m.\u001b[0m\u001b[0mlib\u001b[0m\u001b[0;34m.\u001b[0m\u001b[0m_datasource\u001b[0m\u001b[0;34m.\u001b[0m\u001b[0mopen\u001b[0m\u001b[0;34m(\u001b[0m\u001b[0mfname\u001b[0m\u001b[0;34m,\u001b[0m \u001b[0;34m'rt'\u001b[0m\u001b[0;34m,\u001b[0m \u001b[0mencoding\u001b[0m\u001b[0;34m=\u001b[0m\u001b[0mencoding\u001b[0m\u001b[0;34m)\u001b[0m\u001b[0;34m\u001b[0m\u001b[0;34m\u001b[0m\u001b[0m\n\u001b[0m\u001b[1;32m   1981\u001b[0m         \u001b[0mfid_ctx\u001b[0m \u001b[0;34m=\u001b[0m \u001b[0mcontextlib\u001b[0m\u001b[0;34m.\u001b[0m\u001b[0mclosing\u001b[0m\u001b[0;34m(\u001b[0m\u001b[0mfid\u001b[0m\u001b[0;34m)\u001b[0m\u001b[0;34m\u001b[0m\u001b[0;34m\u001b[0m\u001b[0m\n\u001b[1;32m   1982\u001b[0m     \u001b[0;32melse\u001b[0m\u001b[0;34m:\u001b[0m\u001b[0;34m\u001b[0m\u001b[0;34m\u001b[0m\u001b[0m\n",
            "\u001b[0;32m/usr/local/lib/python3.10/dist-packages/numpy/lib/_datasource.py\u001b[0m in \u001b[0;36mopen\u001b[0;34m(path, mode, destpath, encoding, newline)\u001b[0m\n\u001b[1;32m    191\u001b[0m \u001b[0;34m\u001b[0m\u001b[0m\n\u001b[1;32m    192\u001b[0m     \u001b[0mds\u001b[0m \u001b[0;34m=\u001b[0m \u001b[0mDataSource\u001b[0m\u001b[0;34m(\u001b[0m\u001b[0mdestpath\u001b[0m\u001b[0;34m)\u001b[0m\u001b[0;34m\u001b[0m\u001b[0;34m\u001b[0m\u001b[0m\n\u001b[0;32m--> 193\u001b[0;31m     \u001b[0;32mreturn\u001b[0m \u001b[0mds\u001b[0m\u001b[0;34m.\u001b[0m\u001b[0mopen\u001b[0m\u001b[0;34m(\u001b[0m\u001b[0mpath\u001b[0m\u001b[0;34m,\u001b[0m \u001b[0mmode\u001b[0m\u001b[0;34m,\u001b[0m \u001b[0mencoding\u001b[0m\u001b[0;34m=\u001b[0m\u001b[0mencoding\u001b[0m\u001b[0;34m,\u001b[0m \u001b[0mnewline\u001b[0m\u001b[0;34m=\u001b[0m\u001b[0mnewline\u001b[0m\u001b[0;34m)\u001b[0m\u001b[0;34m\u001b[0m\u001b[0;34m\u001b[0m\u001b[0m\n\u001b[0m\u001b[1;32m    194\u001b[0m \u001b[0;34m\u001b[0m\u001b[0m\n\u001b[1;32m    195\u001b[0m \u001b[0;34m\u001b[0m\u001b[0m\n",
            "\u001b[0;32m/usr/local/lib/python3.10/dist-packages/numpy/lib/_datasource.py\u001b[0m in \u001b[0;36mopen\u001b[0;34m(self, path, mode, encoding, newline)\u001b[0m\n\u001b[1;32m    531\u001b[0m                                       encoding=encoding, newline=newline)\n\u001b[1;32m    532\u001b[0m         \u001b[0;32melse\u001b[0m\u001b[0;34m:\u001b[0m\u001b[0;34m\u001b[0m\u001b[0;34m\u001b[0m\u001b[0m\n\u001b[0;32m--> 533\u001b[0;31m             \u001b[0;32mraise\u001b[0m \u001b[0mFileNotFoundError\u001b[0m\u001b[0;34m(\u001b[0m\u001b[0;34mf\"{path} not found.\"\u001b[0m\u001b[0;34m)\u001b[0m\u001b[0;34m\u001b[0m\u001b[0;34m\u001b[0m\u001b[0m\n\u001b[0m\u001b[1;32m    534\u001b[0m \u001b[0;34m\u001b[0m\u001b[0m\n\u001b[1;32m    535\u001b[0m \u001b[0;34m\u001b[0m\u001b[0m\n",
            "\u001b[0;31mFileNotFoundError\u001b[0m: data.txt not found."
          ]
        }
      ],
      "source": [
        "# prompt: How to read the following file?\n",
        "# 1, 2, 3, 4, 5\n",
        "# 6,  ,  , 7, 8\n",
        "#  ,  , 9,10,11\n",
        "\n",
        "import numpy as np\n",
        "\n",
        "# Read the file with missing values as NaN\n",
        "data = np.genfromtxt('data.txt', delimiter=',', missing_values=' ')\n",
        "\n",
        "# Print the data\n",
        "print(data)\n"
      ]
    },
    {
      "cell_type": "markdown",
      "id": "c23bd80d",
      "metadata": {
        "id": "c23bd80d"
      },
      "source": [
        "#### 55. What is the equivalent of enumerate for numpy arrays?"
      ]
    },
    {
      "cell_type": "code",
      "execution_count": null,
      "id": "d95d9578",
      "metadata": {
        "colab": {
          "base_uri": "https://localhost:8080/"
        },
        "id": "d95d9578",
        "outputId": "3fd37259-17e0-415c-df15-5ec67e36e01d"
      },
      "outputs": [
        {
          "output_type": "stream",
          "name": "stdout",
          "text": [
            "Index: (0, 0), Element: 0\n",
            "Index: (0, 1), Element: 1\n",
            "Index: (0, 2), Element: 2\n",
            "Index: (0, 3), Element: 3\n",
            "Index: (0, 4), Element: 4\n",
            "Index: (1, 0), Element: 5\n",
            "Index: (1, 1), Element: 6\n",
            "Index: (1, 2), Element: 7\n",
            "Index: (1, 3), Element: 8\n",
            "Index: (1, 4), Element: 9\n",
            "Index: (2, 0), Element: 10\n",
            "Index: (2, 1), Element: 11\n",
            "Index: (2, 2), Element: 12\n",
            "Index: (2, 3), Element: 13\n",
            "Index: (2, 4), Element: 14\n",
            "Index: (3, 0), Element: 15\n",
            "Index: (3, 1), Element: 16\n",
            "Index: (3, 2), Element: 17\n",
            "Index: (3, 3), Element: 18\n",
            "Index: (3, 4), Element: 19\n",
            "Index: (4, 0), Element: 20\n",
            "Index: (4, 1), Element: 21\n",
            "Index: (4, 2), Element: 22\n",
            "Index: (4, 3), Element: 23\n",
            "Index: (4, 4), Element: 24\n"
          ]
        }
      ],
      "source": [
        "# prompt: What is the equivalent of enumerate for numpy arrays?\n",
        "\n",
        "for i, element in np.ndenumerate(array):\n",
        "    # Do something with the element and its index\n",
        "    print(f\"Index: {i}, Element: {element}\")\n"
      ]
    },
    {
      "cell_type": "markdown",
      "id": "2153a5ec",
      "metadata": {
        "id": "2153a5ec"
      },
      "source": [
        "#### 56. Generate a generic 2D Gaussian-like array"
      ]
    },
    {
      "cell_type": "code",
      "execution_count": null,
      "id": "61122d1e",
      "metadata": {
        "id": "61122d1e"
      },
      "outputs": [],
      "source": [
        "# prompt: Generate a generic 2D Gaussian-like array\n",
        "\n",
        "import numpy as np\n",
        "\n",
        "def gaussian_2d(shape, sigma=1):\n",
        "    \"\"\"\n",
        "    Creates a 2D Gaussian-like array with the given shape and sigma.\n",
        "\n",
        "    Args:\n",
        "        shape: The shape of the array.\n",
        "        sigma: The standard deviation of the Gaussian.\n",
        "\n",
        "    Returns:\n",
        "        A 2D Gaussian-like array.\n",
        "    \"\"\"\n",
        "\n",
        "    # Create a grid of coordinates\n",
        "    x = np.linspace(-3*sigma, 3*sigma, shape[0])\n",
        "    y = np.linspace(-3*sigma, 3*sigma, shape[1])\n",
        "    xv, yv = np.meshgrid(x, y)\n",
        "\n",
        "    # Calculate the Gaussian function\n",
        "    z = np.exp(-((xv**2 + yv**2) / (2*sigma**2)))\n",
        "\n",
        "    return z\n"
      ]
    },
    {
      "cell_type": "markdown",
      "id": "2e76d589",
      "metadata": {
        "id": "2e76d589"
      },
      "source": [
        "#### 57. How to randomly place p elements in a 2D array?"
      ]
    },
    {
      "cell_type": "code",
      "execution_count": null,
      "id": "0c2e4fcc",
      "metadata": {
        "colab": {
          "base_uri": "https://localhost:8080/"
        },
        "id": "0c2e4fcc",
        "outputId": "c33eb9a3-10d9-4bd1-e183-51d996d3fa7d"
      },
      "outputs": [
        {
          "output_type": "stream",
          "name": "stdout",
          "text": [
            "[[0. 1. 0. 0. 1.]\n",
            " [0. 0. 0. 1. 0.]\n",
            " [0. 0. 0. 1. 1.]\n",
            " [1. 0. 0. 0. 1.]\n",
            " [0. 0. 0. 0. 1.]]\n"
          ]
        }
      ],
      "source": [
        "# prompt: How to randomly place p elements in a 2D array?\n",
        "\n",
        "def place_elements(array, p):\n",
        "  \"\"\"\n",
        "  Randomly places p elements in a 2D array.\n",
        "\n",
        "  Args:\n",
        "      array: The 2D array.\n",
        "      p: The number of elements to place.\n",
        "\n",
        "  Returns:\n",
        "      The array with the elements placed randomly.\n",
        "  \"\"\"\n",
        "\n",
        "  # Get the shape of the array\n",
        "  rows, cols = array.shape\n",
        "\n",
        "  # Generate random coordinates\n",
        "  coordinates = np.random.randint(0, rows * cols, p)\n",
        "\n",
        "  # Place the elements at the random coordinates\n",
        "  array.flat[coordinates] = 1\n",
        "\n",
        "  return array\n",
        "\n",
        "# Create a 5x5 array\n",
        "array = np.zeros((5, 5))\n",
        "\n",
        "# Place 10 elements randomly\n",
        "array = place_elements(array, 10)\n",
        "\n",
        "# Print the array\n",
        "print(array)\n"
      ]
    },
    {
      "cell_type": "markdown",
      "id": "8b3933eb",
      "metadata": {
        "id": "8b3933eb"
      },
      "source": [
        "#### 58. Subtract the mean of each row of a matrix"
      ]
    },
    {
      "cell_type": "code",
      "execution_count": null,
      "id": "a306c9ef",
      "metadata": {
        "colab": {
          "base_uri": "https://localhost:8080/"
        },
        "id": "a306c9ef",
        "outputId": "6eee5f25-99bc-4224-d932-2d5cf0dcaff5"
      },
      "outputs": [
        {
          "output_type": "stream",
          "name": "stdout",
          "text": [
            "[[-0.198626    0.43003437 -0.15667698 -0.18502094  0.11028956]\n",
            " [-0.25496744 -0.50764454  0.25276149  0.21654847  0.29330202]\n",
            " [ 0.07574514 -0.42910757  0.13375266  0.03770177  0.18190801]\n",
            " [ 0.02622579  0.23836467 -0.19374397 -0.15276906  0.08192257]\n",
            " [ 0.01760526  0.31129142 -0.12306845  0.05998611 -0.26581435]]\n"
          ]
        }
      ],
      "source": [
        "# prompt:  Subtract the mean of each row of a matrix\n",
        "\n",
        "def subtract_row_means(matrix):\n",
        "  \"\"\"\n",
        "  Subtracts the mean of each row from the matrix.\n",
        "\n",
        "  Args:\n",
        "      matrix: The matrix to process.\n",
        "\n",
        "  Returns:\n",
        "      The matrix with the row means subtracted.\n",
        "  \"\"\"\n",
        "\n",
        "  # Calculate the mean of each row\n",
        "  row_means = np.mean(matrix, axis=1)\n",
        "\n",
        "  # Subtract the row means from the matrix\n",
        "  return matrix - row_means[:, np.newaxis]\n",
        "\n",
        "# Create a random matrix\n",
        "matrix = np.random.rand(5, 5)\n",
        "\n",
        "# Subtract the mean of each row\n",
        "matrix = subtract_row_means(matrix)\n",
        "\n",
        "# Print the matrix\n",
        "print(matrix)\n"
      ]
    },
    {
      "cell_type": "markdown",
      "id": "ea8807c0",
      "metadata": {
        "id": "ea8807c0"
      },
      "source": [
        "#### 59. How to sort an array by the nth column?"
      ]
    },
    {
      "cell_type": "code",
      "execution_count": null,
      "id": "cc89a699",
      "metadata": {
        "colab": {
          "base_uri": "https://localhost:8080/"
        },
        "id": "cc89a699",
        "outputId": "64d6ccc6-da7d-49da-95e5-fcdcb9c06a3c"
      },
      "outputs": [
        {
          "output_type": "stream",
          "name": "stdout",
          "text": [
            "[[0.29877561 0.98941132 0.59974823 0.74077917 0.10385356]\n",
            " [0.50069972 0.7959151  0.60707952 0.43436269 0.42096417]\n",
            " [0.79021847 0.66174453 0.68269125 0.41360074 0.44376081]\n",
            " [0.45578278 0.85329523 0.69711002 0.9489077  0.97524606]\n",
            " [0.84085422 0.85943314 0.70042335 0.06987223 0.12975137]]\n"
          ]
        }
      ],
      "source": [
        "# prompt: How to sort an array by the nth column?\n",
        "\n",
        "def sort_by_column(array, n):\n",
        "  \"\"\"\n",
        "  Sorts an array by the nth column.\n",
        "\n",
        "  Args:\n",
        "      array: The array to sort.\n",
        "      n: The column to sort by.\n",
        "\n",
        "  Returns:\n",
        "      The sorted array.\n",
        "  \"\"\"\n",
        "\n",
        "  # Get the nth column of the array\n",
        "  column = array[:, n]\n",
        "\n",
        "  # Sort the array by the nth column\n",
        "  sorted_array = array[np.argsort(column)]\n",
        "\n",
        "  return sorted_array\n",
        "\n",
        "# Create a random array\n",
        "array = np.random.rand(5, 5)\n",
        "\n",
        "# Sort the array by the 3rd column\n",
        "sorted_array = sort_by_column(array, 2)\n",
        "\n",
        "# Print the sorted array\n",
        "print(sorted_array)\n"
      ]
    },
    {
      "cell_type": "markdown",
      "id": "00fa00a1",
      "metadata": {
        "id": "00fa00a1"
      },
      "source": [
        "#### 60. How to tell if a given 2D array has null columns?"
      ]
    },
    {
      "cell_type": "code",
      "execution_count": null,
      "id": "3436e165",
      "metadata": {
        "colab": {
          "base_uri": "https://localhost:8080/"
        },
        "id": "3436e165",
        "outputId": "d91e570b-d91d-48cb-8510-d791893969bf"
      },
      "outputs": [
        {
          "output_type": "stream",
          "name": "stdout",
          "text": [
            "The array has null columns: True\n"
          ]
        }
      ],
      "source": [
        "# prompt: How to tell if a given 2D array has null columns?\n",
        "\n",
        "def has_null_columns(array):\n",
        "  \"\"\"\n",
        "  Checks if a given 2D array has null columns.\n",
        "\n",
        "  Args:\n",
        "      array: The 2D array to check.\n",
        "\n",
        "  Returns:\n",
        "      True if the array has null columns, False otherwise.\n",
        "  \"\"\"\n",
        "\n",
        "  # Check if any of the columns are all NaN\n",
        "  return np.any(np.isnan(array).all(axis=0))\n",
        "\n",
        "# Create a random array\n",
        "array = np.random.rand(5, 5)\n",
        "\n",
        "# Set one of the columns to NaN\n",
        "array[:, 2] = np.nan\n",
        "\n",
        "# Check if the array has null columns\n",
        "has_null_columns = has_null_columns(array)\n",
        "\n",
        "# Print the result\n",
        "print(f\"The array has null columns: {has_null_columns}\")\n"
      ]
    },
    {
      "cell_type": "markdown",
      "id": "5a65c7a2",
      "metadata": {
        "id": "5a65c7a2"
      },
      "source": [
        "#### 61. Find the nearest value from a given value in an array"
      ]
    },
    {
      "cell_type": "code",
      "execution_count": null,
      "id": "73f149d6",
      "metadata": {
        "id": "73f149d6"
      },
      "outputs": [],
      "source": []
    },
    {
      "cell_type": "markdown",
      "id": "dd83e8af",
      "metadata": {
        "id": "dd83e8af"
      },
      "source": [
        "#### 62. Considering two arrays with shape (1,3) and (3,1), how to compute their sum using an iterator?"
      ]
    },
    {
      "cell_type": "code",
      "execution_count": null,
      "id": "29a709a1",
      "metadata": {
        "id": "29a709a1"
      },
      "outputs": [],
      "source": []
    },
    {
      "cell_type": "markdown",
      "id": "6c042efa",
      "metadata": {
        "id": "6c042efa"
      },
      "source": [
        "#### 63. Create an array class that has a name attribute"
      ]
    },
    {
      "cell_type": "code",
      "execution_count": null,
      "id": "45b3d2e0",
      "metadata": {
        "id": "45b3d2e0"
      },
      "outputs": [],
      "source": []
    },
    {
      "cell_type": "markdown",
      "id": "0a075c3d",
      "metadata": {
        "id": "0a075c3d"
      },
      "source": [
        "#### 64. Consider a given vector, how to add 1 to each element indexed by a second vector (be careful with repeated indices)?"
      ]
    },
    {
      "cell_type": "code",
      "execution_count": null,
      "id": "36c50470",
      "metadata": {
        "id": "36c50470"
      },
      "outputs": [],
      "source": []
    },
    {
      "cell_type": "markdown",
      "id": "0fb2f0c5",
      "metadata": {
        "id": "0fb2f0c5"
      },
      "source": [
        "#### 65. How to accumulate elements of a vector (X) to an array (F) based on an index list (I)?"
      ]
    },
    {
      "cell_type": "code",
      "execution_count": null,
      "id": "58aa5f82",
      "metadata": {
        "id": "58aa5f82"
      },
      "outputs": [],
      "source": []
    },
    {
      "cell_type": "markdown",
      "id": "d89dc506",
      "metadata": {
        "id": "d89dc506"
      },
      "source": [
        "#### 66. Considering a (w,h,3) image of (dtype=ubyte), compute the number of unique colors"
      ]
    },
    {
      "cell_type": "code",
      "execution_count": null,
      "id": "8fb43a49",
      "metadata": {
        "id": "8fb43a49"
      },
      "outputs": [],
      "source": []
    },
    {
      "cell_type": "markdown",
      "id": "535a5d81",
      "metadata": {
        "id": "535a5d81"
      },
      "source": [
        "#### 67. Considering a four dimensions array, how to get sum over the last two axis at once?"
      ]
    },
    {
      "cell_type": "code",
      "execution_count": null,
      "id": "f954ab9d",
      "metadata": {
        "id": "f954ab9d"
      },
      "outputs": [],
      "source": []
    },
    {
      "cell_type": "markdown",
      "id": "eee66d3c",
      "metadata": {
        "id": "eee66d3c"
      },
      "source": [
        "#### 68. Considering a one-dimensional vector D, how to compute means of subsets of D using a vector S of same size describing subset  indices?"
      ]
    },
    {
      "cell_type": "code",
      "execution_count": null,
      "id": "8929773a",
      "metadata": {
        "id": "8929773a"
      },
      "outputs": [],
      "source": []
    },
    {
      "cell_type": "markdown",
      "id": "f90d4c40",
      "metadata": {
        "id": "f90d4c40"
      },
      "source": [
        "#### 69. How to get the diagonal of a dot product?"
      ]
    },
    {
      "cell_type": "code",
      "execution_count": null,
      "id": "b47d392d",
      "metadata": {
        "id": "b47d392d"
      },
      "outputs": [],
      "source": []
    },
    {
      "cell_type": "markdown",
      "id": "a8a97e7d",
      "metadata": {
        "id": "a8a97e7d"
      },
      "source": [
        "#### 70. Consider the vector [1, 2, 3, 4, 5], how to build a new vector with 3 consecutive zeros interleaved between each value?"
      ]
    },
    {
      "cell_type": "code",
      "execution_count": null,
      "id": "ee6c6c37",
      "metadata": {
        "id": "ee6c6c37"
      },
      "outputs": [],
      "source": [
        "\n"
      ]
    },
    {
      "cell_type": "markdown",
      "id": "d6a30d60",
      "metadata": {
        "id": "d6a30d60"
      },
      "source": [
        "#### 71. Consider an array of dimension (5,5,3), how to mulitply it by an array with dimensions (5,5)?"
      ]
    },
    {
      "cell_type": "code",
      "execution_count": null,
      "id": "e9703f2e",
      "metadata": {
        "id": "e9703f2e"
      },
      "outputs": [],
      "source": []
    },
    {
      "cell_type": "markdown",
      "id": "bac359a9",
      "metadata": {
        "id": "bac359a9"
      },
      "source": [
        "#### 72. How to swap two rows of an array?"
      ]
    },
    {
      "cell_type": "code",
      "execution_count": null,
      "id": "f1b432b1",
      "metadata": {
        "id": "f1b432b1"
      },
      "outputs": [],
      "source": []
    },
    {
      "cell_type": "markdown",
      "id": "620c9f83",
      "metadata": {
        "id": "620c9f83"
      },
      "source": [
        "#### 73. Consider a set of 10 triplets describing 10 triangles (with shared vertices), find the set of unique line segments composing all the  triangles"
      ]
    },
    {
      "cell_type": "code",
      "execution_count": null,
      "id": "4e595ffc",
      "metadata": {
        "id": "4e595ffc"
      },
      "outputs": [],
      "source": []
    },
    {
      "cell_type": "markdown",
      "id": "a76c55a2",
      "metadata": {
        "id": "a76c55a2"
      },
      "source": [
        "#### 74. Given a sorted array C that corresponds to a bincount, how to produce an array A such that np.bincount(A) == C?"
      ]
    },
    {
      "cell_type": "code",
      "execution_count": null,
      "id": "2d2ae65a",
      "metadata": {
        "id": "2d2ae65a"
      },
      "outputs": [],
      "source": []
    },
    {
      "cell_type": "markdown",
      "id": "d550c8e2",
      "metadata": {
        "id": "d550c8e2"
      },
      "source": [
        "#### 75. How to compute averages using a sliding window over an array?"
      ]
    },
    {
      "cell_type": "code",
      "execution_count": null,
      "id": "841c457c",
      "metadata": {
        "id": "841c457c"
      },
      "outputs": [],
      "source": []
    },
    {
      "cell_type": "markdown",
      "id": "6b170b00",
      "metadata": {
        "id": "6b170b00"
      },
      "source": [
        "#### 76. Consider a one-dimensional array Z, build a two-dimensional array whose first row is (Z[0],Z[1],Z[2]) and each subsequent row is  shifted by 1 (last row should be (Z[-3],Z[-2],Z[-1])"
      ]
    },
    {
      "cell_type": "code",
      "execution_count": null,
      "id": "d9a0cf4e",
      "metadata": {
        "id": "d9a0cf4e"
      },
      "outputs": [],
      "source": []
    },
    {
      "cell_type": "markdown",
      "id": "e94a5c1d",
      "metadata": {
        "id": "e94a5c1d"
      },
      "source": [
        "#### 77. How to negate a boolean, or to change the sign of a float inplace?"
      ]
    },
    {
      "cell_type": "code",
      "execution_count": null,
      "id": "c0f9504f",
      "metadata": {
        "id": "c0f9504f"
      },
      "outputs": [],
      "source": [
        "# prompt: How to negate a boolean, or to change the sign of a float inplace?\n",
        "\n",
        "# Negate a boolean\n",
        "a = True\n",
        "print(np.logical_not(a))  # Output: False\n",
        "\n",
        "# Change the sign of a float inplace\n",
        "b = -1.2\n",
        "np.negative(b, out=b)\n",
        "print(b)  # Output: 1.2\n"
      ]
    },
    {
      "cell_type": "markdown",
      "id": "4eb8b5c1",
      "metadata": {
        "id": "4eb8b5c1"
      },
      "source": [
        "#### 78. Consider 2 sets of points P0,P1 describing lines (2d) and a point p, how to compute distance from p to each line i (P0[i],P1[i])?"
      ]
    },
    {
      "cell_type": "code",
      "execution_count": null,
      "id": "487f47ec",
      "metadata": {
        "id": "487f47ec"
      },
      "outputs": [],
      "source": [
        "\n"
      ]
    },
    {
      "cell_type": "markdown",
      "id": "3df99948",
      "metadata": {
        "id": "3df99948"
      },
      "source": [
        "#### 79. Consider 2 sets of points P0,P1 describing lines (2d) and a set of points P, how to compute distance from each point j (P[j]) to each line i (P0[i],P1[i])?"
      ]
    },
    {
      "cell_type": "code",
      "execution_count": null,
      "id": "dc2df37b",
      "metadata": {
        "id": "dc2df37b"
      },
      "outputs": [],
      "source": []
    },
    {
      "cell_type": "markdown",
      "id": "11e972c2",
      "metadata": {
        "id": "11e972c2"
      },
      "source": [
        "#### 80. Consider an arbitrary array, write a function that extract a subpart with a fixed shape and centered on a given element (pad with a `fill` value when necessary)"
      ]
    },
    {
      "cell_type": "code",
      "execution_count": null,
      "id": "0291247f",
      "metadata": {
        "id": "0291247f"
      },
      "outputs": [],
      "source": []
    },
    {
      "cell_type": "markdown",
      "id": "93cfeab3",
      "metadata": {
        "id": "93cfeab3"
      },
      "source": [
        "#### 81. Consider an array Z = [1,2,3,4,5,6,7,8,9,10,11,12,13,14], how to generate an array R = [[1,2,3,4], [2,3,4,5], [3,4,5,6], ..., [11,12,13,14]]?"
      ]
    },
    {
      "cell_type": "code",
      "execution_count": null,
      "id": "360de791",
      "metadata": {
        "id": "360de791"
      },
      "outputs": [],
      "source": []
    },
    {
      "cell_type": "markdown",
      "id": "4c15ceff",
      "metadata": {
        "id": "4c15ceff"
      },
      "source": [
        "#### 82. Compute a matrix rank (★★★)"
      ]
    },
    {
      "cell_type": "code",
      "execution_count": null,
      "id": "9a4272d2",
      "metadata": {
        "id": "9a4272d2"
      },
      "outputs": [],
      "source": []
    },
    {
      "cell_type": "markdown",
      "id": "1171cb84",
      "metadata": {
        "id": "1171cb84"
      },
      "source": [
        "#### 83. How to find the most frequent value in an array?"
      ]
    },
    {
      "cell_type": "code",
      "execution_count": null,
      "id": "33e951c8",
      "metadata": {
        "id": "33e951c8"
      },
      "outputs": [],
      "source": []
    },
    {
      "cell_type": "markdown",
      "id": "04f472aa",
      "metadata": {
        "id": "04f472aa"
      },
      "source": [
        "#### 84. Extract all the contiguous 3x3 blocks from a random 10x10 matrix"
      ]
    },
    {
      "cell_type": "code",
      "execution_count": null,
      "id": "7aade14a",
      "metadata": {
        "id": "7aade14a"
      },
      "outputs": [],
      "source": []
    },
    {
      "cell_type": "markdown",
      "id": "52836346",
      "metadata": {
        "id": "52836346"
      },
      "source": [
        "#### 85. Create a 2D array subclass such that Z[i,j] == Z[j,i]"
      ]
    },
    {
      "cell_type": "code",
      "execution_count": null,
      "id": "4df70318",
      "metadata": {
        "id": "4df70318"
      },
      "outputs": [],
      "source": []
    },
    {
      "cell_type": "markdown",
      "id": "78c43ee5",
      "metadata": {
        "id": "78c43ee5"
      },
      "source": [
        "#### 86. Consider a set of p matrices with shape (n,n) and a set of p vectors with shape (n,1). How to compute the sum of of the p matrix products at once? (result has shape (n,1))"
      ]
    },
    {
      "cell_type": "code",
      "execution_count": null,
      "id": "32fd2c3b",
      "metadata": {
        "id": "32fd2c3b"
      },
      "outputs": [],
      "source": []
    },
    {
      "cell_type": "markdown",
      "id": "158f9945",
      "metadata": {
        "id": "158f9945"
      },
      "source": [
        "#### 87. Consider a 16x16 array, how to get the block-sum (block size is 4x4)?"
      ]
    },
    {
      "cell_type": "code",
      "execution_count": null,
      "id": "5a9b808f",
      "metadata": {
        "id": "5a9b808f"
      },
      "outputs": [],
      "source": []
    },
    {
      "cell_type": "markdown",
      "id": "2e0ad860",
      "metadata": {
        "id": "2e0ad860"
      },
      "source": [
        "#### 88. How to implement the Game of Life using numpy arrays?"
      ]
    },
    {
      "cell_type": "code",
      "execution_count": null,
      "id": "574acff5",
      "metadata": {
        "id": "574acff5"
      },
      "outputs": [],
      "source": []
    },
    {
      "cell_type": "markdown",
      "id": "69a892fa",
      "metadata": {
        "id": "69a892fa"
      },
      "source": [
        "#### 89. How to get the n largest values of an array"
      ]
    },
    {
      "cell_type": "code",
      "execution_count": null,
      "id": "21b2bd48",
      "metadata": {
        "id": "21b2bd48"
      },
      "outputs": [],
      "source": []
    },
    {
      "cell_type": "markdown",
      "id": "b55ccacc",
      "metadata": {
        "id": "b55ccacc"
      },
      "source": [
        "#### 90. Given an arbitrary number of vectors, build the cartesian product (every combinations of every item)"
      ]
    },
    {
      "cell_type": "code",
      "execution_count": null,
      "id": "4b645da4",
      "metadata": {
        "id": "4b645da4"
      },
      "outputs": [],
      "source": []
    },
    {
      "cell_type": "markdown",
      "id": "89187a23",
      "metadata": {
        "id": "89187a23"
      },
      "source": [
        "#### 91. How to create a record array from a regular array?"
      ]
    },
    {
      "cell_type": "code",
      "execution_count": null,
      "id": "da94c71a",
      "metadata": {
        "id": "da94c71a"
      },
      "outputs": [],
      "source": []
    },
    {
      "cell_type": "markdown",
      "id": "aa70d4ca",
      "metadata": {
        "id": "aa70d4ca"
      },
      "source": [
        "#### 92. Consider a large vector Z, compute Z to the power of 3 using 3 different methods"
      ]
    },
    {
      "cell_type": "code",
      "execution_count": null,
      "id": "7cff1bf5",
      "metadata": {
        "id": "7cff1bf5"
      },
      "outputs": [],
      "source": []
    },
    {
      "cell_type": "markdown",
      "id": "5f79dd00",
      "metadata": {
        "id": "5f79dd00"
      },
      "source": [
        "#### 93. Consider two arrays A and B of shape (8,3) and (2,2). How to find rows of A that contain elements of each row of B regardless of the order of the elements in B?"
      ]
    },
    {
      "cell_type": "code",
      "execution_count": null,
      "id": "20c105b2",
      "metadata": {
        "id": "20c105b2"
      },
      "outputs": [],
      "source": []
    },
    {
      "cell_type": "markdown",
      "id": "a80570cd",
      "metadata": {
        "id": "a80570cd"
      },
      "source": [
        "#### 94. Considering a 10x3 matrix, extract rows with unequal values (e.g. [2,2,3])"
      ]
    },
    {
      "cell_type": "code",
      "execution_count": null,
      "id": "84db8de1",
      "metadata": {
        "id": "84db8de1"
      },
      "outputs": [],
      "source": []
    },
    {
      "cell_type": "markdown",
      "id": "ba154f43",
      "metadata": {
        "id": "ba154f43"
      },
      "source": [
        "#### 95. Convert a vector of ints into a matrix binary representation"
      ]
    },
    {
      "cell_type": "code",
      "execution_count": null,
      "id": "cfa96e1b",
      "metadata": {
        "id": "cfa96e1b"
      },
      "outputs": [],
      "source": []
    },
    {
      "cell_type": "markdown",
      "id": "420e2343",
      "metadata": {
        "id": "420e2343"
      },
      "source": [
        "#### 96. Given a two dimensional array, how to extract unique rows?"
      ]
    },
    {
      "cell_type": "code",
      "execution_count": null,
      "id": "4680dfd0",
      "metadata": {
        "id": "4680dfd0"
      },
      "outputs": [],
      "source": []
    },
    {
      "cell_type": "markdown",
      "id": "89fef2f3",
      "metadata": {
        "id": "89fef2f3"
      },
      "source": [
        "#### 97. Considering 2 vectors A & B, write the einsum equivalent of inner, outer, sum, and mul function"
      ]
    },
    {
      "cell_type": "code",
      "execution_count": null,
      "id": "bb9c14b2",
      "metadata": {
        "id": "bb9c14b2"
      },
      "outputs": [],
      "source": []
    },
    {
      "cell_type": "markdown",
      "id": "7ad5cc5f",
      "metadata": {
        "id": "7ad5cc5f"
      },
      "source": [
        "#### 98. Considering a path described by two vectors (X,Y), how to sample it using equidistant samples?"
      ]
    },
    {
      "cell_type": "code",
      "execution_count": null,
      "id": "0899d1d5",
      "metadata": {
        "id": "0899d1d5"
      },
      "outputs": [],
      "source": []
    },
    {
      "cell_type": "markdown",
      "id": "2b69272e",
      "metadata": {
        "id": "2b69272e"
      },
      "source": [
        "#### 99. Given an integer n and a 2D array X, select from X the rows which can be interpreted as draws from a multinomial distribution with n degrees, i.e., the rows which only contain integers and which sum to n."
      ]
    },
    {
      "cell_type": "code",
      "execution_count": null,
      "id": "55c8b034",
      "metadata": {
        "id": "55c8b034"
      },
      "outputs": [],
      "source": []
    },
    {
      "cell_type": "markdown",
      "id": "59ab5516",
      "metadata": {
        "id": "59ab5516"
      },
      "source": [
        "#### 100. Compute bootstrapped 95% confidence intervals for the mean of a 1D array X (i.e., resample the elements of an array with replacement N times, compute the mean of each sample, and then compute percentiles over the means)."
      ]
    },
    {
      "cell_type": "code",
      "execution_count": null,
      "id": "450877d8",
      "metadata": {
        "id": "450877d8"
      },
      "outputs": [],
      "source": []
    }
  ],
  "metadata": {
    "kernelspec": {
      "display_name": "Python 3 (ipykernel)",
      "language": "python",
      "name": "python3"
    },
    "language_info": {
      "codemirror_mode": {
        "name": "ipython",
        "version": 3
      },
      "file_extension": ".py",
      "mimetype": "text/x-python",
      "name": "python",
      "nbconvert_exporter": "python",
      "pygments_lexer": "ipython3",
      "version": "3.11.5"
    },
    "colab": {
      "provenance": []
    }
  },
  "nbformat": 4,
  "nbformat_minor": 5
}